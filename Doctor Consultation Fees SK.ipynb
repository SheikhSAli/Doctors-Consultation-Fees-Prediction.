{
 "cells": [
  {
   "cell_type": "markdown",
   "metadata": {},
   "source": [
    "# Predict a Doctors Consultation Fees "
   ]
  },
  {
   "cell_type": "markdown",
   "metadata": {},
   "source": [
    "<font color=blue>We have all been in situation where we go to a doctor in emergency and find that the consultation fees are too high. As a data scientist we all should do better. What if we have data that records important details about a doctor and we get to build a model to predict the doctor’s consulting fee.?</font>"
   ]
  },
  {
   "cell_type": "markdown",
   "metadata": {},
   "source": [
    "In here we will use Machine Learning models to predict a Doctors consultation Fees ."
   ]
  },
  {
   "cell_type": "markdown",
   "metadata": {},
   "source": [
    "\n",
    "**Qualification:**                   Qualification and degrees held by the doctor<br>\n",
    "**Experience:**                      Experience of the doctor in number of years<br>\n",
    "**Rating:**                          Rating given by patients<br>\n",
    "**Profile:**                         Type of the doctor<br>\n",
    "**Miscellaeous_Info:**               Extra information about the doctor<br>\n",
    "**Fees:**                            Fees charged by the doctor<br>\n",
    "**Place:**                           Area and the city where the doctor is located.<br>"
   ]
  },
  {
   "cell_type": "markdown",
   "metadata": {},
   "source": [
    "# Importing Libraries "
   ]
  },
  {
   "cell_type": "code",
   "execution_count": 577,
   "metadata": {},
   "outputs": [],
   "source": [
    "import numpy as np \n",
    "import pandas as pd \n",
    "import matplotlib.pyplot as plt\n",
    "%matplotlib inline\n",
    "plt.style.use(\"ggplot\")\n",
    "import seaborn as sns\n",
    "from sklearn import metrics\n",
    "from sklearn.model_selection import train_test_split ,  cross_val_score\n",
    "from sklearn.metrics import r2_score,mean_absolute_error,mean_squared_error , mean_squared_log_error\n",
    "from math import sqrt \n",
    "from sklearn.linear_model import LinearRegression\n",
    "from sklearn.metrics import r2_score, mean_squared_error\n",
    "from sklearn.neighbors import KNeighborsRegressor\n",
    "from sklearn.ensemble import  RandomForestRegressor\n",
    "from sklearn.ensemble import  GradientBoostingRegressor\n",
    "from sklearn.svm import SVR\n",
    "from sklearn.tree import DecisionTreeRegressor\n",
    "from sklearn.tree import ExtraTreeRegressor\n",
    "from sklearn.linear_model import Lasso\n",
    "from sklearn.linear_model import Ridge\n",
    "from sklearn.linear_model import  ElasticNet\n",
    "from sklearn.decomposition import PCA\n",
    "from sklearn.metrics import mean_squared_error\n",
    "from sklearn.metrics import mean_absolute_error\n",
    "from sklearn import metrics\n",
    "from sklearn.preprocessing import MinMaxScaler \n",
    "import warnings \n",
    "warnings.filterwarnings('ignore')\n"
   ]
  },
  {
   "cell_type": "markdown",
   "metadata": {},
   "source": [
    "# Getting the data"
   ]
  },
  {
   "cell_type": "code",
   "execution_count": 578,
   "metadata": {},
   "outputs": [],
   "source": [
    "ddf = pd.read_excel('Final_Test.xlsx')\n",
    "ddf_test = pd.read_excel('Sample_submission.xlsx')"
   ]
  },
  {
   "cell_type": "code",
   "execution_count": 579,
   "metadata": {},
   "outputs": [
    {
     "data": {
      "text/html": [
       "<div>\n",
       "<style scoped>\n",
       "    .dataframe tbody tr th:only-of-type {\n",
       "        vertical-align: middle;\n",
       "    }\n",
       "\n",
       "    .dataframe tbody tr th {\n",
       "        vertical-align: top;\n",
       "    }\n",
       "\n",
       "    .dataframe thead th {\n",
       "        text-align: right;\n",
       "    }\n",
       "</style>\n",
       "<table border=\"1\" class=\"dataframe\">\n",
       "  <thead>\n",
       "    <tr style=\"text-align: right;\">\n",
       "      <th></th>\n",
       "      <th>Qualification</th>\n",
       "      <th>Experience</th>\n",
       "      <th>Rating</th>\n",
       "      <th>Place</th>\n",
       "      <th>Profile</th>\n",
       "      <th>Miscellaneous_Info</th>\n",
       "    </tr>\n",
       "  </thead>\n",
       "  <tbody>\n",
       "    <tr>\n",
       "      <th>0</th>\n",
       "      <td>MBBS</td>\n",
       "      <td>35 years experience</td>\n",
       "      <td>NaN</td>\n",
       "      <td>Ghatkopar East, Mumbai</td>\n",
       "      <td>General Medicine</td>\n",
       "      <td>NaN</td>\n",
       "    </tr>\n",
       "    <tr>\n",
       "      <th>1</th>\n",
       "      <td>MBBS, Diploma in Otorhinolaryngology (DLO)</td>\n",
       "      <td>31 years experience</td>\n",
       "      <td>NaN</td>\n",
       "      <td>West Marredpally, Hyderabad</td>\n",
       "      <td>ENT Specialist</td>\n",
       "      <td>NaN</td>\n",
       "    </tr>\n",
       "    <tr>\n",
       "      <th>2</th>\n",
       "      <td>MBBS, DDVL</td>\n",
       "      <td>40 years experience</td>\n",
       "      <td>70%</td>\n",
       "      <td>KK Nagar, Chennai</td>\n",
       "      <td>Dermatologists</td>\n",
       "      <td>70% 4 Feedback KK Nagar, Chennai</td>\n",
       "    </tr>\n",
       "    <tr>\n",
       "      <th>3</th>\n",
       "      <td>BAMS</td>\n",
       "      <td>0 years experience</td>\n",
       "      <td>NaN</td>\n",
       "      <td>New Ashok Nagar, Delhi</td>\n",
       "      <td>Ayurveda</td>\n",
       "      <td>NaN</td>\n",
       "    </tr>\n",
       "    <tr>\n",
       "      <th>4</th>\n",
       "      <td>BDS, MDS - Conservative Dentistry &amp; Endodontics</td>\n",
       "      <td>16 years experience</td>\n",
       "      <td>100%</td>\n",
       "      <td>Kanakpura Road, Bangalore</td>\n",
       "      <td>Dentist</td>\n",
       "      <td>General Dentistry Conservative Dentistry Cosme...</td>\n",
       "    </tr>\n",
       "    <tr>\n",
       "      <th>...</th>\n",
       "      <td>...</td>\n",
       "      <td>...</td>\n",
       "      <td>...</td>\n",
       "      <td>...</td>\n",
       "      <td>...</td>\n",
       "      <td>...</td>\n",
       "    </tr>\n",
       "    <tr>\n",
       "      <th>1982</th>\n",
       "      <td>BAMS, Doctor of Medicine</td>\n",
       "      <td>10 years experience</td>\n",
       "      <td>NaN</td>\n",
       "      <td>Basavanagudi, Bangalore</td>\n",
       "      <td>Ayurveda</td>\n",
       "      <td>NaN</td>\n",
       "    </tr>\n",
       "    <tr>\n",
       "      <th>1983</th>\n",
       "      <td>MD - Dermatology , Venereology &amp; Leprosy, MBBS</td>\n",
       "      <td>4 years experience</td>\n",
       "      <td>NaN</td>\n",
       "      <td>Choolai, Chennai</td>\n",
       "      <td>Dermatologists</td>\n",
       "      <td>NaN</td>\n",
       "    </tr>\n",
       "    <tr>\n",
       "      <th>1984</th>\n",
       "      <td>MBBS, MD / MS - Obstetrics &amp; Gynaecology</td>\n",
       "      <td>9 years experience</td>\n",
       "      <td>NaN</td>\n",
       "      <td>Porur, Chennai</td>\n",
       "      <td>General Medicine</td>\n",
       "      <td>NaN</td>\n",
       "    </tr>\n",
       "    <tr>\n",
       "      <th>1985</th>\n",
       "      <td>BDS</td>\n",
       "      <td>12 years experience</td>\n",
       "      <td>98%</td>\n",
       "      <td>Arekere, Bangalore</td>\n",
       "      <td>Dentist</td>\n",
       "      <td>RCT - Root Canal Treatment Root Canal Treatmen...</td>\n",
       "    </tr>\n",
       "    <tr>\n",
       "      <th>1986</th>\n",
       "      <td>MBBS, MD - Dermatology , Venereology &amp; Leprosy</td>\n",
       "      <td>8 years experience</td>\n",
       "      <td>NaN</td>\n",
       "      <td>Pallikaranai, Chennai</td>\n",
       "      <td>Dermatologists</td>\n",
       "      <td>1 Feedback Pallikaranai, Chennai ₹500</td>\n",
       "    </tr>\n",
       "  </tbody>\n",
       "</table>\n",
       "<p>1987 rows × 6 columns</p>\n",
       "</div>"
      ],
      "text/plain": [
       "                                        Qualification           Experience  \\\n",
       "0                                                MBBS  35 years experience   \n",
       "1          MBBS, Diploma in Otorhinolaryngology (DLO)  31 years experience   \n",
       "2                                          MBBS, DDVL  40 years experience   \n",
       "3                                                BAMS   0 years experience   \n",
       "4     BDS, MDS - Conservative Dentistry & Endodontics  16 years experience   \n",
       "...                                               ...                  ...   \n",
       "1982                         BAMS, Doctor of Medicine  10 years experience   \n",
       "1983   MD - Dermatology , Venereology & Leprosy, MBBS   4 years experience   \n",
       "1984         MBBS, MD / MS - Obstetrics & Gynaecology   9 years experience   \n",
       "1985                                              BDS  12 years experience   \n",
       "1986   MBBS, MD - Dermatology , Venereology & Leprosy   8 years experience   \n",
       "\n",
       "     Rating                        Place           Profile  \\\n",
       "0       NaN       Ghatkopar East, Mumbai  General Medicine   \n",
       "1       NaN  West Marredpally, Hyderabad    ENT Specialist   \n",
       "2       70%            KK Nagar, Chennai    Dermatologists   \n",
       "3       NaN       New Ashok Nagar, Delhi          Ayurveda   \n",
       "4      100%    Kanakpura Road, Bangalore           Dentist   \n",
       "...     ...                          ...               ...   \n",
       "1982    NaN      Basavanagudi, Bangalore          Ayurveda   \n",
       "1983    NaN             Choolai, Chennai    Dermatologists   \n",
       "1984    NaN               Porur, Chennai  General Medicine   \n",
       "1985    98%           Arekere, Bangalore           Dentist   \n",
       "1986    NaN        Pallikaranai, Chennai    Dermatologists   \n",
       "\n",
       "                                     Miscellaneous_Info  \n",
       "0                                                   NaN  \n",
       "1                                                   NaN  \n",
       "2                      70% 4 Feedback KK Nagar, Chennai  \n",
       "3                                                   NaN  \n",
       "4     General Dentistry Conservative Dentistry Cosme...  \n",
       "...                                                 ...  \n",
       "1982                                                NaN  \n",
       "1983                                                NaN  \n",
       "1984                                                NaN  \n",
       "1985  RCT - Root Canal Treatment Root Canal Treatmen...  \n",
       "1986              1 Feedback Pallikaranai, Chennai ₹500  \n",
       "\n",
       "[1987 rows x 6 columns]"
      ]
     },
     "execution_count": 579,
     "metadata": {},
     "output_type": "execute_result"
    }
   ],
   "source": [
    "ddf"
   ]
  },
  {
   "cell_type": "code",
   "execution_count": 580,
   "metadata": {},
   "outputs": [
    {
     "data": {
      "text/html": [
       "<div>\n",
       "<style scoped>\n",
       "    .dataframe tbody tr th:only-of-type {\n",
       "        vertical-align: middle;\n",
       "    }\n",
       "\n",
       "    .dataframe tbody tr th {\n",
       "        vertical-align: top;\n",
       "    }\n",
       "\n",
       "    .dataframe thead th {\n",
       "        text-align: right;\n",
       "    }\n",
       "</style>\n",
       "<table border=\"1\" class=\"dataframe\">\n",
       "  <thead>\n",
       "    <tr style=\"text-align: right;\">\n",
       "      <th></th>\n",
       "      <th>Fees</th>\n",
       "    </tr>\n",
       "  </thead>\n",
       "  <tbody>\n",
       "    <tr>\n",
       "      <th>0</th>\n",
       "      <td>1747</td>\n",
       "    </tr>\n",
       "    <tr>\n",
       "      <th>1</th>\n",
       "      <td>1725</td>\n",
       "    </tr>\n",
       "    <tr>\n",
       "      <th>2</th>\n",
       "      <td>2194</td>\n",
       "    </tr>\n",
       "    <tr>\n",
       "      <th>3</th>\n",
       "      <td>2193</td>\n",
       "    </tr>\n",
       "    <tr>\n",
       "      <th>4</th>\n",
       "      <td>2091</td>\n",
       "    </tr>\n",
       "    <tr>\n",
       "      <th>...</th>\n",
       "      <td>...</td>\n",
       "    </tr>\n",
       "    <tr>\n",
       "      <th>1982</th>\n",
       "      <td>2352</td>\n",
       "    </tr>\n",
       "    <tr>\n",
       "      <th>1983</th>\n",
       "      <td>1653</td>\n",
       "    </tr>\n",
       "    <tr>\n",
       "      <th>1984</th>\n",
       "      <td>2063</td>\n",
       "    </tr>\n",
       "    <tr>\n",
       "      <th>1985</th>\n",
       "      <td>2541</td>\n",
       "    </tr>\n",
       "    <tr>\n",
       "      <th>1986</th>\n",
       "      <td>1633</td>\n",
       "    </tr>\n",
       "  </tbody>\n",
       "</table>\n",
       "<p>1987 rows × 1 columns</p>\n",
       "</div>"
      ],
      "text/plain": [
       "      Fees\n",
       "0     1747\n",
       "1     1725\n",
       "2     2194\n",
       "3     2193\n",
       "4     2091\n",
       "...    ...\n",
       "1982  2352\n",
       "1983  1653\n",
       "1984  2063\n",
       "1985  2541\n",
       "1986  1633\n",
       "\n",
       "[1987 rows x 1 columns]"
      ]
     },
     "execution_count": 580,
     "metadata": {},
     "output_type": "execute_result"
    }
   ],
   "source": [
    "ddf_test"
   ]
  },
  {
   "cell_type": "markdown",
   "metadata": {},
   "source": [
    "# Exploratory Data Analysis"
   ]
  },
  {
   "cell_type": "code",
   "execution_count": 581,
   "metadata": {},
   "outputs": [
    {
     "name": "stdout",
     "output_type": "stream",
     "text": [
      "<class 'pandas.core.frame.DataFrame'>\n",
      "RangeIndex: 1987 entries, 0 to 1986\n",
      "Data columns (total 6 columns):\n",
      " #   Column              Non-Null Count  Dtype \n",
      "---  ------              --------------  ----- \n",
      " 0   Qualification       1987 non-null   object\n",
      " 1   Experience          1987 non-null   object\n",
      " 2   Rating              897 non-null    object\n",
      " 3   Place               1981 non-null   object\n",
      " 4   Profile             1987 non-null   object\n",
      " 5   Miscellaneous_Info  1153 non-null   object\n",
      "dtypes: object(6)\n",
      "memory usage: 93.3+ KB\n"
     ]
    }
   ],
   "source": [
    "ddf.info()"
   ]
  },
  {
   "cell_type": "markdown",
   "metadata": {},
   "source": [
    " Checking for Null values"
   ]
  },
  {
   "cell_type": "code",
   "execution_count": 582,
   "metadata": {},
   "outputs": [
    {
     "data": {
      "text/plain": [
       "Qualification            0\n",
       "Experience               0\n",
       "Rating                1090\n",
       "Place                    6\n",
       "Profile                  0\n",
       "Miscellaneous_Info     834\n",
       "dtype: int64"
      ]
     },
     "execution_count": 582,
     "metadata": {},
     "output_type": "execute_result"
    }
   ],
   "source": [
    "ddf.isnull().sum()"
   ]
  },
  {
   "cell_type": "markdown",
   "metadata": {},
   "source": [
    "Counting Unique values of each feature.\n"
   ]
  },
  {
   "cell_type": "code",
   "execution_count": 583,
   "metadata": {},
   "outputs": [
    {
     "name": "stdout",
     "output_type": "stream",
     "text": [
      "Qualification: 630\n",
      "Experience: 57\n",
      "Rating: 36\n",
      "Place: 592\n",
      "Profile 6\n"
     ]
    }
   ],
   "source": [
    "print('Qualification:', ddf['Qualification'].nunique())\n",
    "print('Experience:', ddf['Experience'].nunique())\n",
    "print('Rating:', ddf['Rating'].nunique())\n",
    "print('Place:', ddf['Place'].nunique())\n",
    "print('Profile', ddf['Profile'].nunique())"
   ]
  },
  {
   "cell_type": "markdown",
   "metadata": {},
   "source": [
    "# Data Preprocessing"
   ]
  },
  {
   "cell_type": "code",
   "execution_count": 584,
   "metadata": {},
   "outputs": [
    {
     "name": "stdout",
     "output_type": "stream",
     "text": [
      "<class 'pandas.core.frame.DataFrame'>\n",
      "RangeIndex: 1987 entries, 0 to 1986\n",
      "Data columns (total 6 columns):\n",
      " #   Column              Non-Null Count  Dtype \n",
      "---  ------              --------------  ----- \n",
      " 0   Qualification       1987 non-null   object\n",
      " 1   Experience          1987 non-null   object\n",
      " 2   Rating              897 non-null    object\n",
      " 3   Place               1981 non-null   object\n",
      " 4   Profile             1987 non-null   object\n",
      " 5   Miscellaneous_Info  1153 non-null   object\n",
      "dtypes: object(6)\n",
      "memory usage: 93.3+ KB\n"
     ]
    }
   ],
   "source": [
    "ddf.info()"
   ]
  },
  {
   "cell_type": "markdown",
   "metadata": {},
   "source": [
    "**Qualification**"
   ]
  },
  {
   "cell_type": "code",
   "execution_count": 585,
   "metadata": {},
   "outputs": [
    {
     "data": {
      "text/plain": [
       "0                                                  MBBS\n",
       "1            MBBS, Diploma in Otorhinolaryngology (DLO)\n",
       "2                                            MBBS, DDVL\n",
       "3                                                  BAMS\n",
       "4       BDS, MDS - Conservative Dentistry & Endodontics\n",
       "                             ...                       \n",
       "1982                           BAMS, Doctor of Medicine\n",
       "1983     MD - Dermatology , Venereology & Leprosy, MBBS\n",
       "1984           MBBS, MD / MS - Obstetrics & Gynaecology\n",
       "1985                                                BDS\n",
       "1986     MBBS, MD - Dermatology , Venereology & Leprosy\n",
       "Name: Qualification, Length: 1987, dtype: object"
      ]
     },
     "execution_count": 585,
     "metadata": {},
     "output_type": "execute_result"
    }
   ],
   "source": [
    "ddf['Qualification']"
   ]
  },
  {
   "cell_type": "markdown",
   "metadata": {},
   "source": [
    "This module provides regular expression matching operations similar to those found in Perl."
   ]
  },
  {
   "cell_type": "markdown",
   "metadata": {},
   "source": [
    "[Learn_about_re](https://docs.python.org/3/library/re.html)"
   ]
  },
  {
   "cell_type": "markdown",
   "metadata": {},
   "source": [
    "[re_expressions](https://www.tutorialspoint.com/python/python_reg_expressions.htm)"
   ]
  },
  {
   "cell_type": "markdown",
   "metadata": {},
   "source": [
    "Kindly open the links above to learn more about re (Regular Expressions)."
   ]
  },
  {
   "cell_type": "code",
   "execution_count": 586,
   "metadata": {},
   "outputs": [],
   "source": [
    "import re\n",
    "def clean_text(text):\n",
    "    text = str(text).lower()\n",
    "    \n",
    "    # re.sub\n",
    "    #This method replaces all occurrences of the RE pattern in string with repl, \n",
    "    #substituting all occurrences unless max provided.\n",
    "    #Here we are replacing patterns with spaces.\n",
    "    \n",
    "    text = re.sub(r'[^a-z]', ' ', text)\n",
    "    text = re.sub(r'\\s+', ' ', text)\n",
    "    return text"
   ]
  },
  {
   "cell_type": "code",
   "execution_count": 587,
   "metadata": {},
   "outputs": [],
   "source": [
    "ddf['Qualification'] = ddf['Qualification'].apply(clean_text)"
   ]
  },
  {
   "cell_type": "code",
   "execution_count": 588,
   "metadata": {},
   "outputs": [],
   "source": [
    "a = ddf['Qualification']"
   ]
  },
  {
   "cell_type": "markdown",
   "metadata": {},
   "source": [
    "From above we can observe that all the . , or any patterns are replaced by ' ' in the Qualiffication feature ."
   ]
  },
  {
   "cell_type": "markdown",
   "metadata": {},
   "source": [
    "**Experience**"
   ]
  },
  {
   "cell_type": "markdown",
   "metadata": {},
   "source": [
    "Replacing year experience with a space from Experience feature and converting its datatype to int."
   ]
  },
  {
   "cell_type": "code",
   "execution_count": 589,
   "metadata": {},
   "outputs": [],
   "source": [
    "ddf['Experience'] = ddf['Experience'].str.replace('years experience','').astype(int)\n"
   ]
  },
  {
   "cell_type": "code",
   "execution_count": 590,
   "metadata": {},
   "outputs": [
    {
     "data": {
      "text/plain": [
       "10    110\n",
       "8      98\n",
       "9      96\n",
       "19     92\n",
       "7      89\n",
       "11     86\n",
       "13     83\n",
       "14     81\n",
       "12     79\n",
       "17     72\n",
       "18     70\n",
       "6      62\n",
       "15     57\n",
       "16     51\n",
       "5      50\n",
       "23     49\n",
       "21     48\n",
       "20     48\n",
       "29     46\n",
       "4      44\n",
       "22     37\n",
       "24     34\n",
       "3      33\n",
       "25     33\n",
       "26     32\n",
       "0      31\n",
       "28     29\n",
       "27     27\n",
       "34     27\n",
       "36     27\n",
       "31     26\n",
       "38     23\n",
       "30     18\n",
       "32     16\n",
       "44     16\n",
       "40     15\n",
       "37     14\n",
       "39     13\n",
       "35     13\n",
       "41     12\n",
       "33     11\n",
       "2      11\n",
       "46     11\n",
       "42     10\n",
       "43     10\n",
       "47      9\n",
       "49      8\n",
       "45      7\n",
       "48      6\n",
       "59      4\n",
       "50      3\n",
       "51      3\n",
       "52      2\n",
       "54      2\n",
       "53      1\n",
       "56      1\n",
       "65      1\n",
       "Name: Experience, dtype: int64"
      ]
     },
     "execution_count": 590,
     "metadata": {},
     "output_type": "execute_result"
    }
   ],
   "source": [
    "ddf['Experience'].value_counts()"
   ]
  },
  {
   "cell_type": "code",
   "execution_count": 591,
   "metadata": {},
   "outputs": [],
   "source": [
    "from sklearn.preprocessing import LabelEncoder\n",
    "le = LabelEncoder()\n",
    "ddf['Experience'] = le.fit_transform(ddf['Experience'])"
   ]
  },
  {
   "cell_type": "code",
   "execution_count": 592,
   "metadata": {},
   "outputs": [
    {
     "data": {
      "text/plain": [
       "0       34\n",
       "1       30\n",
       "2       39\n",
       "3        0\n",
       "4       15\n",
       "        ..\n",
       "1982     9\n",
       "1983     3\n",
       "1984     8\n",
       "1985    11\n",
       "1986     7\n",
       "Name: Experience, Length: 1987, dtype: int64"
      ]
     },
     "execution_count": 592,
     "metadata": {},
     "output_type": "execute_result"
    }
   ],
   "source": [
    "ddf['Experience']"
   ]
  },
  {
   "cell_type": "code",
   "execution_count": 593,
   "metadata": {},
   "outputs": [
    {
     "data": {
      "text/html": [
       "<div>\n",
       "<style scoped>\n",
       "    .dataframe tbody tr th:only-of-type {\n",
       "        vertical-align: middle;\n",
       "    }\n",
       "\n",
       "    .dataframe tbody tr th {\n",
       "        vertical-align: top;\n",
       "    }\n",
       "\n",
       "    .dataframe thead th {\n",
       "        text-align: right;\n",
       "    }\n",
       "</style>\n",
       "<table border=\"1\" class=\"dataframe\">\n",
       "  <thead>\n",
       "    <tr style=\"text-align: right;\">\n",
       "      <th></th>\n",
       "      <th>Qualification</th>\n",
       "      <th>Experience</th>\n",
       "      <th>Rating</th>\n",
       "      <th>Place</th>\n",
       "      <th>Profile</th>\n",
       "      <th>Miscellaneous_Info</th>\n",
       "    </tr>\n",
       "  </thead>\n",
       "  <tbody>\n",
       "    <tr>\n",
       "      <th>0</th>\n",
       "      <td>mbbs</td>\n",
       "      <td>34</td>\n",
       "      <td>NaN</td>\n",
       "      <td>Ghatkopar East, Mumbai</td>\n",
       "      <td>General Medicine</td>\n",
       "      <td>NaN</td>\n",
       "    </tr>\n",
       "    <tr>\n",
       "      <th>1</th>\n",
       "      <td>mbbs diploma in otorhinolaryngology dlo</td>\n",
       "      <td>30</td>\n",
       "      <td>NaN</td>\n",
       "      <td>West Marredpally, Hyderabad</td>\n",
       "      <td>ENT Specialist</td>\n",
       "      <td>NaN</td>\n",
       "    </tr>\n",
       "    <tr>\n",
       "      <th>2</th>\n",
       "      <td>mbbs ddvl</td>\n",
       "      <td>39</td>\n",
       "      <td>70%</td>\n",
       "      <td>KK Nagar, Chennai</td>\n",
       "      <td>Dermatologists</td>\n",
       "      <td>70% 4 Feedback KK Nagar, Chennai</td>\n",
       "    </tr>\n",
       "    <tr>\n",
       "      <th>3</th>\n",
       "      <td>bams</td>\n",
       "      <td>0</td>\n",
       "      <td>NaN</td>\n",
       "      <td>New Ashok Nagar, Delhi</td>\n",
       "      <td>Ayurveda</td>\n",
       "      <td>NaN</td>\n",
       "    </tr>\n",
       "    <tr>\n",
       "      <th>4</th>\n",
       "      <td>bds mds conservative dentistry endodontics</td>\n",
       "      <td>15</td>\n",
       "      <td>100%</td>\n",
       "      <td>Kanakpura Road, Bangalore</td>\n",
       "      <td>Dentist</td>\n",
       "      <td>General Dentistry Conservative Dentistry Cosme...</td>\n",
       "    </tr>\n",
       "  </tbody>\n",
       "</table>\n",
       "</div>"
      ],
      "text/plain": [
       "                                Qualification  Experience Rating  \\\n",
       "0                                        mbbs          34    NaN   \n",
       "1    mbbs diploma in otorhinolaryngology dlo           30    NaN   \n",
       "2                                   mbbs ddvl          39    70%   \n",
       "3                                        bams           0    NaN   \n",
       "4  bds mds conservative dentistry endodontics          15   100%   \n",
       "\n",
       "                         Place           Profile  \\\n",
       "0       Ghatkopar East, Mumbai  General Medicine   \n",
       "1  West Marredpally, Hyderabad    ENT Specialist   \n",
       "2            KK Nagar, Chennai    Dermatologists   \n",
       "3       New Ashok Nagar, Delhi          Ayurveda   \n",
       "4    Kanakpura Road, Bangalore           Dentist   \n",
       "\n",
       "                                  Miscellaneous_Info  \n",
       "0                                                NaN  \n",
       "1                                                NaN  \n",
       "2                   70% 4 Feedback KK Nagar, Chennai  \n",
       "3                                                NaN  \n",
       "4  General Dentistry Conservative Dentistry Cosme...  "
      ]
     },
     "execution_count": 593,
     "metadata": {},
     "output_type": "execute_result"
    }
   ],
   "source": [
    "ddf.head()"
   ]
  },
  {
   "cell_type": "markdown",
   "metadata": {},
   "source": [
    "**Rating**"
   ]
  },
  {
   "cell_type": "code",
   "execution_count": 594,
   "metadata": {},
   "outputs": [
    {
     "data": {
      "text/plain": [
       "0        NaN\n",
       "1        NaN\n",
       "2        70%\n",
       "3        NaN\n",
       "4       100%\n",
       "        ... \n",
       "1982     NaN\n",
       "1983     NaN\n",
       "1984     NaN\n",
       "1985     98%\n",
       "1986     NaN\n",
       "Name: Rating, Length: 1987, dtype: object"
      ]
     },
     "execution_count": 594,
     "metadata": {},
     "output_type": "execute_result"
    }
   ],
   "source": [
    "ddf['Rating']"
   ]
  },
  {
   "cell_type": "markdown",
   "metadata": {},
   "source": [
    "Filling the Null vallues with 0%."
   ]
  },
  {
   "cell_type": "code",
   "execution_count": 595,
   "metadata": {},
   "outputs": [],
   "source": [
    "ddf['Rating'].fillna('0%', inplace=True)"
   ]
  },
  {
   "cell_type": "code",
   "execution_count": 596,
   "metadata": {},
   "outputs": [],
   "source": [
    "def clean_rating(text):\n",
    "    text = re.sub(r'%', '', str(text))\n",
    "    return text"
   ]
  },
  {
   "cell_type": "code",
   "execution_count": 597,
   "metadata": {},
   "outputs": [],
   "source": [
    "ddf['Rating'] = ddf['Rating'].apply(clean_rating)\n",
    "\n",
    "#Converting the datatype to int\n",
    "ddf['Rating'] = ddf['Rating'].astype(int)"
   ]
  },
  {
   "cell_type": "code",
   "execution_count": 598,
   "metadata": {},
   "outputs": [],
   "source": [
    "le = LabelEncoder()\n",
    "ddf['Rating']= le.fit_transform(ddf['Rating'])"
   ]
  },
  {
   "cell_type": "code",
   "execution_count": 599,
   "metadata": {},
   "outputs": [
    {
     "data": {
      "text/plain": [
       "0        0\n",
       "1        0\n",
       "2        9\n",
       "3        0\n",
       "4       36\n",
       "        ..\n",
       "1982     0\n",
       "1983     0\n",
       "1984     0\n",
       "1985    34\n",
       "1986     0\n",
       "Name: Rating, Length: 1987, dtype: int64"
      ]
     },
     "execution_count": 599,
     "metadata": {},
     "output_type": "execute_result"
    }
   ],
   "source": [
    "ddf['Rating']"
   ]
  },
  {
   "cell_type": "markdown",
   "metadata": {},
   "source": [
    "From above we can observe that we have successfully removed all the % sign and filled the missing values."
   ]
  },
  {
   "cell_type": "markdown",
   "metadata": {},
   "source": [
    "**Place**"
   ]
  },
  {
   "cell_type": "code",
   "execution_count": 600,
   "metadata": {},
   "outputs": [
    {
     "data": {
      "text/plain": [
       "0            Ghatkopar East, Mumbai\n",
       "1       West Marredpally, Hyderabad\n",
       "2                 KK Nagar, Chennai\n",
       "3            New Ashok Nagar, Delhi\n",
       "4         Kanakpura Road, Bangalore\n",
       "                   ...             \n",
       "1982        Basavanagudi, Bangalore\n",
       "1983               Choolai, Chennai\n",
       "1984                 Porur, Chennai\n",
       "1985             Arekere, Bangalore\n",
       "1986          Pallikaranai, Chennai\n",
       "Name: Place, Length: 1987, dtype: object"
      ]
     },
     "execution_count": 600,
     "metadata": {},
     "output_type": "execute_result"
    }
   ],
   "source": [
    "ddf['Place']"
   ]
  },
  {
   "cell_type": "code",
   "execution_count": 601,
   "metadata": {},
   "outputs": [
    {
     "data": {
      "text/plain": [
       "Mulund West, Mumbai          27\n",
       "Andheri West, Mumbai         27\n",
       "Dwarka, Delhi                26\n",
       "Whitefield, Bangalore        23\n",
       "HSR Layout, Bangalore        22\n",
       "                             ..\n",
       "Vyasarpadi, Chennai           1\n",
       "Aya Nagar, Delhi              1\n",
       "Chetpet, Chennai              1\n",
       "Pollachi, Coimbatore          1\n",
       "Yellareddyguda, Hyderabad     1\n",
       "Name: Place, Length: 592, dtype: int64"
      ]
     },
     "execution_count": 601,
     "metadata": {},
     "output_type": "execute_result"
    }
   ],
   "source": [
    "ddf['Place'].value_counts()"
   ]
  },
  {
   "cell_type": "markdown",
   "metadata": {},
   "source": [
    "For Place feature we will do the same as we had done for Qualification feature."
   ]
  },
  {
   "cell_type": "code",
   "execution_count": 602,
   "metadata": {},
   "outputs": [],
   "source": [
    "def clean_place(text):\n",
    "    text = str(text).lower()\n",
    "    text = re.sub(r'[^a-z0-9]', ' ', text)\n",
    "    text = re.sub(r'\\s+', ' ', text)\n",
    "    return text"
   ]
  },
  {
   "cell_type": "markdown",
   "metadata": {},
   "source": [
    "Replacing the Null values with missing and applying above finction to replace patterns with spaces."
   ]
  },
  {
   "cell_type": "code",
   "execution_count": 603,
   "metadata": {},
   "outputs": [],
   "source": [
    "ddf['Place'].fillna('missing', inplace=True)\n",
    "ddf['Place'] = ddf['Place'].apply(clean_place)"
   ]
  },
  {
   "cell_type": "code",
   "execution_count": 604,
   "metadata": {},
   "outputs": [],
   "source": [
    "le = LabelEncoder()\n",
    "ddf['Place'] = le.fit_transform(ddf['Place'])"
   ]
  },
  {
   "cell_type": "code",
   "execution_count": 605,
   "metadata": {},
   "outputs": [
    {
     "data": {
      "text/plain": [
       "0       142\n",
       "1       581\n",
       "2       258\n",
       "3       375\n",
       "4       227\n",
       "       ... \n",
       "1982     54\n",
       "1983     95\n",
       "1984    425\n",
       "1985     25\n",
       "1986    395\n",
       "Name: Place, Length: 1987, dtype: int32"
      ]
     },
     "execution_count": 605,
     "metadata": {},
     "output_type": "execute_result"
    }
   ],
   "source": [
    "ddf['Place']"
   ]
  },
  {
   "cell_type": "markdown",
   "metadata": {},
   "source": [
    "**Profile**"
   ]
  },
  {
   "cell_type": "code",
   "execution_count": 606,
   "metadata": {},
   "outputs": [
    {
     "data": {
      "text/plain": [
       "General Medicine    444\n",
       "Dentist             441\n",
       "Dermatologists      339\n",
       "Homeopath           277\n",
       "Ayurveda            251\n",
       "ENT Specialist      235\n",
       "Name: Profile, dtype: int64"
      ]
     },
     "execution_count": 606,
     "metadata": {},
     "output_type": "execute_result"
    }
   ],
   "source": [
    "ddf['Profile'].value_counts()"
   ]
  },
  {
   "cell_type": "markdown",
   "metadata": {},
   "source": [
    "In tis feature we can see that there are 5 various datas so we will use LabelEncoder for this ."
   ]
  },
  {
   "cell_type": "code",
   "execution_count": 607,
   "metadata": {},
   "outputs": [
    {
     "data": {
      "text/plain": [
       "0"
      ]
     },
     "execution_count": 607,
     "metadata": {},
     "output_type": "execute_result"
    }
   ],
   "source": [
    "ddf['Profile'].isnull().sum()"
   ]
  },
  {
   "cell_type": "code",
   "execution_count": 608,
   "metadata": {},
   "outputs": [],
   "source": [
    "from sklearn.preprocessing import LabelEncoder\n",
    "le = LabelEncoder()\n",
    "ddf['Profile'] = le.fit_transform(ddf['Profile'])"
   ]
  },
  {
   "cell_type": "code",
   "execution_count": 609,
   "metadata": {},
   "outputs": [
    {
     "data": {
      "text/plain": [
       "4    444\n",
       "1    441\n",
       "2    339\n",
       "5    277\n",
       "0    251\n",
       "3    235\n",
       "Name: Profile, dtype: int64"
      ]
     },
     "execution_count": 609,
     "metadata": {},
     "output_type": "execute_result"
    }
   ],
   "source": [
    "ddf['Profile'].value_counts()"
   ]
  },
  {
   "cell_type": "markdown",
   "metadata": {},
   "source": [
    "We hav sucessfully encoded all the datas."
   ]
  },
  {
   "cell_type": "markdown",
   "metadata": {},
   "source": [
    "**Values assigned while encoding**<br>\n",
    "Ayurveda            0<br>\n",
    "Dentist             1<br>\n",
    "Dermatologists      2<br>\n",
    "ENT Specialist      3<br>\n",
    "General Medicine    4<br>\n",
    "Homeopath           5<br>"
   ]
  },
  {
   "cell_type": "code",
   "execution_count": 610,
   "metadata": {},
   "outputs": [
    {
     "data": {
      "text/html": [
       "<div>\n",
       "<style scoped>\n",
       "    .dataframe tbody tr th:only-of-type {\n",
       "        vertical-align: middle;\n",
       "    }\n",
       "\n",
       "    .dataframe tbody tr th {\n",
       "        vertical-align: top;\n",
       "    }\n",
       "\n",
       "    .dataframe thead th {\n",
       "        text-align: right;\n",
       "    }\n",
       "</style>\n",
       "<table border=\"1\" class=\"dataframe\">\n",
       "  <thead>\n",
       "    <tr style=\"text-align: right;\">\n",
       "      <th></th>\n",
       "      <th>Qualification</th>\n",
       "      <th>Experience</th>\n",
       "      <th>Rating</th>\n",
       "      <th>Place</th>\n",
       "      <th>Profile</th>\n",
       "      <th>Miscellaneous_Info</th>\n",
       "    </tr>\n",
       "  </thead>\n",
       "  <tbody>\n",
       "    <tr>\n",
       "      <th>0</th>\n",
       "      <td>mbbs</td>\n",
       "      <td>34</td>\n",
       "      <td>0</td>\n",
       "      <td>142</td>\n",
       "      <td>4</td>\n",
       "      <td>NaN</td>\n",
       "    </tr>\n",
       "    <tr>\n",
       "      <th>1</th>\n",
       "      <td>mbbs diploma in otorhinolaryngology dlo</td>\n",
       "      <td>30</td>\n",
       "      <td>0</td>\n",
       "      <td>581</td>\n",
       "      <td>3</td>\n",
       "      <td>NaN</td>\n",
       "    </tr>\n",
       "    <tr>\n",
       "      <th>2</th>\n",
       "      <td>mbbs ddvl</td>\n",
       "      <td>39</td>\n",
       "      <td>9</td>\n",
       "      <td>258</td>\n",
       "      <td>2</td>\n",
       "      <td>70% 4 Feedback KK Nagar, Chennai</td>\n",
       "    </tr>\n",
       "    <tr>\n",
       "      <th>3</th>\n",
       "      <td>bams</td>\n",
       "      <td>0</td>\n",
       "      <td>0</td>\n",
       "      <td>375</td>\n",
       "      <td>0</td>\n",
       "      <td>NaN</td>\n",
       "    </tr>\n",
       "    <tr>\n",
       "      <th>4</th>\n",
       "      <td>bds mds conservative dentistry endodontics</td>\n",
       "      <td>15</td>\n",
       "      <td>36</td>\n",
       "      <td>227</td>\n",
       "      <td>1</td>\n",
       "      <td>General Dentistry Conservative Dentistry Cosme...</td>\n",
       "    </tr>\n",
       "    <tr>\n",
       "      <th>5</th>\n",
       "      <td>bds mds</td>\n",
       "      <td>13</td>\n",
       "      <td>26</td>\n",
       "      <td>555</td>\n",
       "      <td>1</td>\n",
       "      <td>Acrylic Partial Denture Impaction / Impacted T...</td>\n",
       "    </tr>\n",
       "    <tr>\n",
       "      <th>6</th>\n",
       "      <td>mbbs diploma in otorhinolaryngology dlo</td>\n",
       "      <td>22</td>\n",
       "      <td>30</td>\n",
       "      <td>134</td>\n",
       "      <td>3</td>\n",
       "      <td>94% 6 Feedback Frazer Town, Bangalore</td>\n",
       "    </tr>\n",
       "    <tr>\n",
       "      <th>7</th>\n",
       "      <td>bds mds pedodontics</td>\n",
       "      <td>8</td>\n",
       "      <td>30</td>\n",
       "      <td>31</td>\n",
       "      <td>1</td>\n",
       "      <td>RCT - Root Canal Treatment Ceramic Veneers / C...</td>\n",
       "    </tr>\n",
       "    <tr>\n",
       "      <th>8</th>\n",
       "      <td>md ayurveda medicine bams yoga teachers traini...</td>\n",
       "      <td>10</td>\n",
       "      <td>35</td>\n",
       "      <td>47</td>\n",
       "      <td>0</td>\n",
       "      <td>99% 203 Feedback Banashankari, Bangalore</td>\n",
       "    </tr>\n",
       "    <tr>\n",
       "      <th>9</th>\n",
       "      <td>bhms</td>\n",
       "      <td>43</td>\n",
       "      <td>0</td>\n",
       "      <td>323</td>\n",
       "      <td>5</td>\n",
       "      <td>NaN</td>\n",
       "    </tr>\n",
       "  </tbody>\n",
       "</table>\n",
       "</div>"
      ],
      "text/plain": [
       "                                       Qualification  Experience  Rating  \\\n",
       "0                                               mbbs          34       0   \n",
       "1           mbbs diploma in otorhinolaryngology dlo           30       0   \n",
       "2                                          mbbs ddvl          39       9   \n",
       "3                                               bams           0       0   \n",
       "4         bds mds conservative dentistry endodontics          15      36   \n",
       "5                                            bds mds          13      26   \n",
       "6           mbbs diploma in otorhinolaryngology dlo           22      30   \n",
       "7                                bds mds pedodontics           8      30   \n",
       "8  md ayurveda medicine bams yoga teachers traini...          10      35   \n",
       "9                                               bhms          43       0   \n",
       "\n",
       "   Place  Profile                                 Miscellaneous_Info  \n",
       "0    142        4                                                NaN  \n",
       "1    581        3                                                NaN  \n",
       "2    258        2                   70% 4 Feedback KK Nagar, Chennai  \n",
       "3    375        0                                                NaN  \n",
       "4    227        1  General Dentistry Conservative Dentistry Cosme...  \n",
       "5    555        1  Acrylic Partial Denture Impaction / Impacted T...  \n",
       "6    134        3              94% 6 Feedback Frazer Town, Bangalore  \n",
       "7     31        1  RCT - Root Canal Treatment Ceramic Veneers / C...  \n",
       "8     47        0           99% 203 Feedback Banashankari, Bangalore  \n",
       "9    323        5                                                NaN  "
      ]
     },
     "execution_count": 610,
     "metadata": {},
     "output_type": "execute_result"
    }
   ],
   "source": [
    "ddf.head(10)"
   ]
  },
  {
   "cell_type": "markdown",
   "metadata": {},
   "source": [
    "**Miscellaneous Info**"
   ]
  },
  {
   "cell_type": "markdown",
   "metadata": {},
   "source": [
    "Here in miscellaneous_info feature there are number of informations we can extrat . Now let's see what we can etract from this feature."
   ]
  },
  {
   "cell_type": "code",
   "execution_count": 611,
   "metadata": {},
   "outputs": [
    {
     "data": {
      "text/plain": [
       "0                                                     NaN\n",
       "1                                                     NaN\n",
       "2                        70% 4 Feedback KK Nagar, Chennai\n",
       "3                                                     NaN\n",
       "4       General Dentistry Conservative Dentistry Cosme...\n",
       "                              ...                        \n",
       "1982                                                  NaN\n",
       "1983                                                  NaN\n",
       "1984                                                  NaN\n",
       "1985    RCT - Root Canal Treatment Root Canal Treatmen...\n",
       "1986                1 Feedback Pallikaranai, Chennai ₹500\n",
       "Name: Miscellaneous_Info, Length: 1987, dtype: object"
      ]
     },
     "execution_count": 611,
     "metadata": {},
     "output_type": "execute_result"
    }
   ],
   "source": [
    "ddf['Miscellaneous_Info']"
   ]
  },
  {
   "cell_type": "code",
   "execution_count": 612,
   "metadata": {},
   "outputs": [
    {
     "data": {
      "text/plain": [
       "834"
      ]
     },
     "execution_count": 612,
     "metadata": {},
     "output_type": "execute_result"
    }
   ],
   "source": [
    "ddf['Miscellaneous_Info'].isnull().sum()"
   ]
  },
  {
   "cell_type": "markdown",
   "metadata": {},
   "source": [
    "Filling the Null values with missing."
   ]
  },
  {
   "cell_type": "code",
   "execution_count": 613,
   "metadata": {},
   "outputs": [],
   "source": [
    "ddf['Miscellaneous_Info'].fillna('missing', inplace=True)"
   ]
  },
  {
   "cell_type": "markdown",
   "metadata": {},
   "source": [
    "In here we are finding the string Feedback and the word preceding it."
   ]
  },
  {
   "cell_type": "code",
   "execution_count": 614,
   "metadata": {},
   "outputs": [],
   "source": [
    "def get_feedback(feedback):\n",
    "    feedback = re.findall(r'\\d+ Feedback', str(feedback))\n",
    "    \n",
    "    #if the feedback is preceding by nothing we will append \n",
    "    # 0 Feedback or else return the 0th index value.\n",
    "    if feedback == []:\n",
    "        feedback = '0 Feedback'\n",
    "        return feedback\n",
    "    else:\n",
    "        return feedback[0]"
   ]
  },
  {
   "cell_type": "markdown",
   "metadata": {},
   "source": [
    "Here we are creating a new feature naming Feedback which has the a integer value of the feedbacks given.<br> Replacing the Feedback string with '' from the Feedback feature and converting its datatype to int . "
   ]
  },
  {
   "cell_type": "code",
   "execution_count": 615,
   "metadata": {},
   "outputs": [],
   "source": [
    "ddf['Feedback'] = ddf['Miscellaneous_Info'].apply(get_feedback)\n",
    "ddf['Feedback'] = ddf['Feedback'].str.replace(' Feedback','')\n",
    "ddf['Feedback'] = ddf['Feedback'].astype(int)"
   ]
  },
  {
   "cell_type": "code",
   "execution_count": 616,
   "metadata": {},
   "outputs": [
    {
     "data": {
      "text/html": [
       "<div>\n",
       "<style scoped>\n",
       "    .dataframe tbody tr th:only-of-type {\n",
       "        vertical-align: middle;\n",
       "    }\n",
       "\n",
       "    .dataframe tbody tr th {\n",
       "        vertical-align: top;\n",
       "    }\n",
       "\n",
       "    .dataframe thead th {\n",
       "        text-align: right;\n",
       "    }\n",
       "</style>\n",
       "<table border=\"1\" class=\"dataframe\">\n",
       "  <thead>\n",
       "    <tr style=\"text-align: right;\">\n",
       "      <th></th>\n",
       "      <th>Qualification</th>\n",
       "      <th>Experience</th>\n",
       "      <th>Rating</th>\n",
       "      <th>Place</th>\n",
       "      <th>Profile</th>\n",
       "      <th>Miscellaneous_Info</th>\n",
       "      <th>Feedback</th>\n",
       "    </tr>\n",
       "  </thead>\n",
       "  <tbody>\n",
       "    <tr>\n",
       "      <th>0</th>\n",
       "      <td>mbbs</td>\n",
       "      <td>34</td>\n",
       "      <td>0</td>\n",
       "      <td>142</td>\n",
       "      <td>4</td>\n",
       "      <td>missing</td>\n",
       "      <td>0</td>\n",
       "    </tr>\n",
       "    <tr>\n",
       "      <th>1</th>\n",
       "      <td>mbbs diploma in otorhinolaryngology dlo</td>\n",
       "      <td>30</td>\n",
       "      <td>0</td>\n",
       "      <td>581</td>\n",
       "      <td>3</td>\n",
       "      <td>missing</td>\n",
       "      <td>0</td>\n",
       "    </tr>\n",
       "    <tr>\n",
       "      <th>2</th>\n",
       "      <td>mbbs ddvl</td>\n",
       "      <td>39</td>\n",
       "      <td>9</td>\n",
       "      <td>258</td>\n",
       "      <td>2</td>\n",
       "      <td>70% 4 Feedback KK Nagar, Chennai</td>\n",
       "      <td>4</td>\n",
       "    </tr>\n",
       "    <tr>\n",
       "      <th>3</th>\n",
       "      <td>bams</td>\n",
       "      <td>0</td>\n",
       "      <td>0</td>\n",
       "      <td>375</td>\n",
       "      <td>0</td>\n",
       "      <td>missing</td>\n",
       "      <td>0</td>\n",
       "    </tr>\n",
       "    <tr>\n",
       "      <th>4</th>\n",
       "      <td>bds mds conservative dentistry endodontics</td>\n",
       "      <td>15</td>\n",
       "      <td>36</td>\n",
       "      <td>227</td>\n",
       "      <td>1</td>\n",
       "      <td>General Dentistry Conservative Dentistry Cosme...</td>\n",
       "      <td>0</td>\n",
       "    </tr>\n",
       "    <tr>\n",
       "      <th>...</th>\n",
       "      <td>...</td>\n",
       "      <td>...</td>\n",
       "      <td>...</td>\n",
       "      <td>...</td>\n",
       "      <td>...</td>\n",
       "      <td>...</td>\n",
       "      <td>...</td>\n",
       "    </tr>\n",
       "    <tr>\n",
       "      <th>1982</th>\n",
       "      <td>bams doctor of medicine</td>\n",
       "      <td>9</td>\n",
       "      <td>0</td>\n",
       "      <td>54</td>\n",
       "      <td>0</td>\n",
       "      <td>missing</td>\n",
       "      <td>0</td>\n",
       "    </tr>\n",
       "    <tr>\n",
       "      <th>1983</th>\n",
       "      <td>md dermatology venereology leprosy mbbs</td>\n",
       "      <td>3</td>\n",
       "      <td>0</td>\n",
       "      <td>95</td>\n",
       "      <td>2</td>\n",
       "      <td>missing</td>\n",
       "      <td>0</td>\n",
       "    </tr>\n",
       "    <tr>\n",
       "      <th>1984</th>\n",
       "      <td>mbbs md ms obstetrics gynaecology</td>\n",
       "      <td>8</td>\n",
       "      <td>0</td>\n",
       "      <td>425</td>\n",
       "      <td>4</td>\n",
       "      <td>missing</td>\n",
       "      <td>0</td>\n",
       "    </tr>\n",
       "    <tr>\n",
       "      <th>1985</th>\n",
       "      <td>bds</td>\n",
       "      <td>11</td>\n",
       "      <td>34</td>\n",
       "      <td>25</td>\n",
       "      <td>1</td>\n",
       "      <td>RCT - Root Canal Treatment Root Canal Treatmen...</td>\n",
       "      <td>0</td>\n",
       "    </tr>\n",
       "    <tr>\n",
       "      <th>1986</th>\n",
       "      <td>mbbs md dermatology venereology leprosy</td>\n",
       "      <td>7</td>\n",
       "      <td>0</td>\n",
       "      <td>395</td>\n",
       "      <td>2</td>\n",
       "      <td>1 Feedback Pallikaranai, Chennai ₹500</td>\n",
       "      <td>1</td>\n",
       "    </tr>\n",
       "  </tbody>\n",
       "</table>\n",
       "<p>1987 rows × 7 columns</p>\n",
       "</div>"
      ],
      "text/plain": [
       "                                   Qualification  Experience  Rating  Place  \\\n",
       "0                                           mbbs          34       0    142   \n",
       "1       mbbs diploma in otorhinolaryngology dlo           30       0    581   \n",
       "2                                      mbbs ddvl          39       9    258   \n",
       "3                                           bams           0       0    375   \n",
       "4     bds mds conservative dentistry endodontics          15      36    227   \n",
       "...                                          ...         ...     ...    ...   \n",
       "1982                     bams doctor of medicine           9       0     54   \n",
       "1983     md dermatology venereology leprosy mbbs           3       0     95   \n",
       "1984           mbbs md ms obstetrics gynaecology           8       0    425   \n",
       "1985                                         bds          11      34     25   \n",
       "1986     mbbs md dermatology venereology leprosy           7       0    395   \n",
       "\n",
       "      Profile                                 Miscellaneous_Info  Feedback  \n",
       "0           4                                            missing         0  \n",
       "1           3                                            missing         0  \n",
       "2           2                   70% 4 Feedback KK Nagar, Chennai         4  \n",
       "3           0                                            missing         0  \n",
       "4           1  General Dentistry Conservative Dentistry Cosme...         0  \n",
       "...       ...                                                ...       ...  \n",
       "1982        0                                            missing         0  \n",
       "1983        2                                            missing         0  \n",
       "1984        4                                            missing         0  \n",
       "1985        1  RCT - Root Canal Treatment Root Canal Treatmen...         0  \n",
       "1986        2              1 Feedback Pallikaranai, Chennai ₹500         1  \n",
       "\n",
       "[1987 rows x 7 columns]"
      ]
     },
     "execution_count": 616,
     "metadata": {},
     "output_type": "execute_result"
    }
   ],
   "source": [
    "ddf"
   ]
  },
  {
   "cell_type": "markdown",
   "metadata": {},
   "source": [
    "Here we are creating a function which will replace the , with \" \" and finding all the datas which has rupees sign in it and if the value proceding rupees sign is not empty return 0th index value or else return 0 only."
   ]
  },
  {
   "cell_type": "code",
   "execution_count": 617,
   "metadata": {},
   "outputs": [],
   "source": [
    "def get_fee(text):\n",
    "    text = re.sub(r',', \"\", text)\n",
    "    text = re.findall(r'₹\\d+', text)\n",
    "    if text != []:\n",
    "        return text[0]\n",
    "    else:\n",
    "        return 0"
   ]
  },
  {
   "cell_type": "markdown",
   "metadata": {},
   "source": [
    "Here we are creating a new feature with Misc_Fees name. It has the fees Miscellaneous fees which is extracted from the Miscellaneous_Info feature .<br> Filling all the NaN value with 50 and converting its datatype ."
   ]
  },
  {
   "cell_type": "code",
   "execution_count": 618,
   "metadata": {},
   "outputs": [],
   "source": [
    "ddf['Misc_Fees'] = ddf['Miscellaneous_Info'].apply(get_fee)\n",
    "ddf['Misc_Fees'] = ddf['Misc_Fees'].str.replace('₹','')\n",
    "ddf['Misc_Fees'].fillna(0, inplace=True)\n",
    "ddf['Misc_Fees'] = ddf['Misc_Fees'].astype(int)"
   ]
  },
  {
   "cell_type": "code",
   "execution_count": 619,
   "metadata": {},
   "outputs": [
    {
     "data": {
      "text/html": [
       "<div>\n",
       "<style scoped>\n",
       "    .dataframe tbody tr th:only-of-type {\n",
       "        vertical-align: middle;\n",
       "    }\n",
       "\n",
       "    .dataframe tbody tr th {\n",
       "        vertical-align: top;\n",
       "    }\n",
       "\n",
       "    .dataframe thead th {\n",
       "        text-align: right;\n",
       "    }\n",
       "</style>\n",
       "<table border=\"1\" class=\"dataframe\">\n",
       "  <thead>\n",
       "    <tr style=\"text-align: right;\">\n",
       "      <th></th>\n",
       "      <th>Qualification</th>\n",
       "      <th>Experience</th>\n",
       "      <th>Rating</th>\n",
       "      <th>Place</th>\n",
       "      <th>Profile</th>\n",
       "      <th>Miscellaneous_Info</th>\n",
       "      <th>Feedback</th>\n",
       "      <th>Misc_Fees</th>\n",
       "    </tr>\n",
       "  </thead>\n",
       "  <tbody>\n",
       "    <tr>\n",
       "      <th>0</th>\n",
       "      <td>mbbs</td>\n",
       "      <td>34</td>\n",
       "      <td>0</td>\n",
       "      <td>142</td>\n",
       "      <td>4</td>\n",
       "      <td>missing</td>\n",
       "      <td>0</td>\n",
       "      <td>0</td>\n",
       "    </tr>\n",
       "    <tr>\n",
       "      <th>1</th>\n",
       "      <td>mbbs diploma in otorhinolaryngology dlo</td>\n",
       "      <td>30</td>\n",
       "      <td>0</td>\n",
       "      <td>581</td>\n",
       "      <td>3</td>\n",
       "      <td>missing</td>\n",
       "      <td>0</td>\n",
       "      <td>0</td>\n",
       "    </tr>\n",
       "    <tr>\n",
       "      <th>2</th>\n",
       "      <td>mbbs ddvl</td>\n",
       "      <td>39</td>\n",
       "      <td>9</td>\n",
       "      <td>258</td>\n",
       "      <td>2</td>\n",
       "      <td>70% 4 Feedback KK Nagar, Chennai</td>\n",
       "      <td>4</td>\n",
       "      <td>0</td>\n",
       "    </tr>\n",
       "    <tr>\n",
       "      <th>3</th>\n",
       "      <td>bams</td>\n",
       "      <td>0</td>\n",
       "      <td>0</td>\n",
       "      <td>375</td>\n",
       "      <td>0</td>\n",
       "      <td>missing</td>\n",
       "      <td>0</td>\n",
       "      <td>0</td>\n",
       "    </tr>\n",
       "    <tr>\n",
       "      <th>4</th>\n",
       "      <td>bds mds conservative dentistry endodontics</td>\n",
       "      <td>15</td>\n",
       "      <td>36</td>\n",
       "      <td>227</td>\n",
       "      <td>1</td>\n",
       "      <td>General Dentistry Conservative Dentistry Cosme...</td>\n",
       "      <td>0</td>\n",
       "      <td>0</td>\n",
       "    </tr>\n",
       "    <tr>\n",
       "      <th>...</th>\n",
       "      <td>...</td>\n",
       "      <td>...</td>\n",
       "      <td>...</td>\n",
       "      <td>...</td>\n",
       "      <td>...</td>\n",
       "      <td>...</td>\n",
       "      <td>...</td>\n",
       "      <td>...</td>\n",
       "    </tr>\n",
       "    <tr>\n",
       "      <th>1982</th>\n",
       "      <td>bams doctor of medicine</td>\n",
       "      <td>9</td>\n",
       "      <td>0</td>\n",
       "      <td>54</td>\n",
       "      <td>0</td>\n",
       "      <td>missing</td>\n",
       "      <td>0</td>\n",
       "      <td>0</td>\n",
       "    </tr>\n",
       "    <tr>\n",
       "      <th>1983</th>\n",
       "      <td>md dermatology venereology leprosy mbbs</td>\n",
       "      <td>3</td>\n",
       "      <td>0</td>\n",
       "      <td>95</td>\n",
       "      <td>2</td>\n",
       "      <td>missing</td>\n",
       "      <td>0</td>\n",
       "      <td>0</td>\n",
       "    </tr>\n",
       "    <tr>\n",
       "      <th>1984</th>\n",
       "      <td>mbbs md ms obstetrics gynaecology</td>\n",
       "      <td>8</td>\n",
       "      <td>0</td>\n",
       "      <td>425</td>\n",
       "      <td>4</td>\n",
       "      <td>missing</td>\n",
       "      <td>0</td>\n",
       "      <td>0</td>\n",
       "    </tr>\n",
       "    <tr>\n",
       "      <th>1985</th>\n",
       "      <td>bds</td>\n",
       "      <td>11</td>\n",
       "      <td>34</td>\n",
       "      <td>25</td>\n",
       "      <td>1</td>\n",
       "      <td>RCT - Root Canal Treatment Root Canal Treatmen...</td>\n",
       "      <td>0</td>\n",
       "      <td>0</td>\n",
       "    </tr>\n",
       "    <tr>\n",
       "      <th>1986</th>\n",
       "      <td>mbbs md dermatology venereology leprosy</td>\n",
       "      <td>7</td>\n",
       "      <td>0</td>\n",
       "      <td>395</td>\n",
       "      <td>2</td>\n",
       "      <td>1 Feedback Pallikaranai, Chennai ₹500</td>\n",
       "      <td>1</td>\n",
       "      <td>500</td>\n",
       "    </tr>\n",
       "  </tbody>\n",
       "</table>\n",
       "<p>1987 rows × 8 columns</p>\n",
       "</div>"
      ],
      "text/plain": [
       "                                   Qualification  Experience  Rating  Place  \\\n",
       "0                                           mbbs          34       0    142   \n",
       "1       mbbs diploma in otorhinolaryngology dlo           30       0    581   \n",
       "2                                      mbbs ddvl          39       9    258   \n",
       "3                                           bams           0       0    375   \n",
       "4     bds mds conservative dentistry endodontics          15      36    227   \n",
       "...                                          ...         ...     ...    ...   \n",
       "1982                     bams doctor of medicine           9       0     54   \n",
       "1983     md dermatology venereology leprosy mbbs           3       0     95   \n",
       "1984           mbbs md ms obstetrics gynaecology           8       0    425   \n",
       "1985                                         bds          11      34     25   \n",
       "1986     mbbs md dermatology venereology leprosy           7       0    395   \n",
       "\n",
       "      Profile                                 Miscellaneous_Info  Feedback  \\\n",
       "0           4                                            missing         0   \n",
       "1           3                                            missing         0   \n",
       "2           2                   70% 4 Feedback KK Nagar, Chennai         4   \n",
       "3           0                                            missing         0   \n",
       "4           1  General Dentistry Conservative Dentistry Cosme...         0   \n",
       "...       ...                                                ...       ...   \n",
       "1982        0                                            missing         0   \n",
       "1983        2                                            missing         0   \n",
       "1984        4                                            missing         0   \n",
       "1985        1  RCT - Root Canal Treatment Root Canal Treatmen...         0   \n",
       "1986        2              1 Feedback Pallikaranai, Chennai ₹500         1   \n",
       "\n",
       "      Misc_Fees  \n",
       "0             0  \n",
       "1             0  \n",
       "2             0  \n",
       "3             0  \n",
       "4             0  \n",
       "...         ...  \n",
       "1982          0  \n",
       "1983          0  \n",
       "1984          0  \n",
       "1985          0  \n",
       "1986        500  \n",
       "\n",
       "[1987 rows x 8 columns]"
      ]
     },
     "execution_count": 619,
     "metadata": {},
     "output_type": "execute_result"
    }
   ],
   "source": [
    "ddf"
   ]
  },
  {
   "cell_type": "markdown",
   "metadata": {},
   "source": [
    "Lower casing Miscellaneous_Info column <br> repalcing patterns with ' ' ."
   ]
  },
  {
   "cell_type": "code",
   "execution_count": 620,
   "metadata": {},
   "outputs": [],
   "source": [
    "def clean_misc(text):\n",
    "    text = str(text).lower()\n",
    "    text = re.sub(r'[^a-z0-9]', ' ', text)\n",
    "    text = re.sub(r'\\s+', ' ', text)\n",
    "    return text"
   ]
  },
  {
   "cell_type": "code",
   "execution_count": 621,
   "metadata": {},
   "outputs": [],
   "source": [
    "ddf['Miscellaneous_Info'] = ddf['Miscellaneous_Info'].apply(clean_misc)"
   ]
  },
  {
   "cell_type": "code",
   "execution_count": 622,
   "metadata": {},
   "outputs": [
    {
     "data": {
      "text/html": [
       "<div>\n",
       "<style scoped>\n",
       "    .dataframe tbody tr th:only-of-type {\n",
       "        vertical-align: middle;\n",
       "    }\n",
       "\n",
       "    .dataframe tbody tr th {\n",
       "        vertical-align: top;\n",
       "    }\n",
       "\n",
       "    .dataframe thead th {\n",
       "        text-align: right;\n",
       "    }\n",
       "</style>\n",
       "<table border=\"1\" class=\"dataframe\">\n",
       "  <thead>\n",
       "    <tr style=\"text-align: right;\">\n",
       "      <th></th>\n",
       "      <th>Qualification</th>\n",
       "      <th>Experience</th>\n",
       "      <th>Rating</th>\n",
       "      <th>Place</th>\n",
       "      <th>Profile</th>\n",
       "      <th>Miscellaneous_Info</th>\n",
       "      <th>Feedback</th>\n",
       "      <th>Misc_Fees</th>\n",
       "    </tr>\n",
       "  </thead>\n",
       "  <tbody>\n",
       "    <tr>\n",
       "      <th>0</th>\n",
       "      <td>mbbs</td>\n",
       "      <td>34</td>\n",
       "      <td>0</td>\n",
       "      <td>142</td>\n",
       "      <td>4</td>\n",
       "      <td>missing</td>\n",
       "      <td>0</td>\n",
       "      <td>0</td>\n",
       "    </tr>\n",
       "    <tr>\n",
       "      <th>1</th>\n",
       "      <td>mbbs diploma in otorhinolaryngology dlo</td>\n",
       "      <td>30</td>\n",
       "      <td>0</td>\n",
       "      <td>581</td>\n",
       "      <td>3</td>\n",
       "      <td>missing</td>\n",
       "      <td>0</td>\n",
       "      <td>0</td>\n",
       "    </tr>\n",
       "    <tr>\n",
       "      <th>2</th>\n",
       "      <td>mbbs ddvl</td>\n",
       "      <td>39</td>\n",
       "      <td>9</td>\n",
       "      <td>258</td>\n",
       "      <td>2</td>\n",
       "      <td>70 4 feedback kk nagar chennai</td>\n",
       "      <td>4</td>\n",
       "      <td>0</td>\n",
       "    </tr>\n",
       "    <tr>\n",
       "      <th>3</th>\n",
       "      <td>bams</td>\n",
       "      <td>0</td>\n",
       "      <td>0</td>\n",
       "      <td>375</td>\n",
       "      <td>0</td>\n",
       "      <td>missing</td>\n",
       "      <td>0</td>\n",
       "      <td>0</td>\n",
       "    </tr>\n",
       "    <tr>\n",
       "      <th>4</th>\n",
       "      <td>bds mds conservative dentistry endodontics</td>\n",
       "      <td>15</td>\n",
       "      <td>36</td>\n",
       "      <td>227</td>\n",
       "      <td>1</td>\n",
       "      <td>general dentistry conservative dentistry cosme...</td>\n",
       "      <td>0</td>\n",
       "      <td>0</td>\n",
       "    </tr>\n",
       "  </tbody>\n",
       "</table>\n",
       "</div>"
      ],
      "text/plain": [
       "                                Qualification  Experience  Rating  Place  \\\n",
       "0                                        mbbs          34       0    142   \n",
       "1    mbbs diploma in otorhinolaryngology dlo           30       0    581   \n",
       "2                                   mbbs ddvl          39       9    258   \n",
       "3                                        bams           0       0    375   \n",
       "4  bds mds conservative dentistry endodontics          15      36    227   \n",
       "\n",
       "   Profile                                 Miscellaneous_Info  Feedback  \\\n",
       "0        4                                            missing         0   \n",
       "1        3                                            missing         0   \n",
       "2        2                     70 4 feedback kk nagar chennai         4   \n",
       "3        0                                            missing         0   \n",
       "4        1  general dentistry conservative dentistry cosme...         0   \n",
       "\n",
       "   Misc_Fees  \n",
       "0          0  \n",
       "1          0  \n",
       "2          0  \n",
       "3          0  \n",
       "4          0  "
      ]
     },
     "execution_count": 622,
     "metadata": {},
     "output_type": "execute_result"
    }
   ],
   "source": [
    "ddf.head()"
   ]
  },
  {
   "cell_type": "code",
   "execution_count": 623,
   "metadata": {},
   "outputs": [],
   "source": [
    "x = ddf"
   ]
  },
  {
   "cell_type": "code",
   "execution_count": 624,
   "metadata": {},
   "outputs": [
    {
     "data": {
      "text/html": [
       "<div>\n",
       "<style scoped>\n",
       "    .dataframe tbody tr th:only-of-type {\n",
       "        vertical-align: middle;\n",
       "    }\n",
       "\n",
       "    .dataframe tbody tr th {\n",
       "        vertical-align: top;\n",
       "    }\n",
       "\n",
       "    .dataframe thead th {\n",
       "        text-align: right;\n",
       "    }\n",
       "</style>\n",
       "<table border=\"1\" class=\"dataframe\">\n",
       "  <thead>\n",
       "    <tr style=\"text-align: right;\">\n",
       "      <th></th>\n",
       "      <th>Qualification</th>\n",
       "      <th>Experience</th>\n",
       "      <th>Rating</th>\n",
       "      <th>Place</th>\n",
       "      <th>Profile</th>\n",
       "      <th>Miscellaneous_Info</th>\n",
       "      <th>Feedback</th>\n",
       "      <th>Misc_Fees</th>\n",
       "    </tr>\n",
       "  </thead>\n",
       "  <tbody>\n",
       "    <tr>\n",
       "      <th>0</th>\n",
       "      <td>mbbs</td>\n",
       "      <td>34</td>\n",
       "      <td>0</td>\n",
       "      <td>142</td>\n",
       "      <td>4</td>\n",
       "      <td>missing</td>\n",
       "      <td>0</td>\n",
       "      <td>0</td>\n",
       "    </tr>\n",
       "    <tr>\n",
       "      <th>1</th>\n",
       "      <td>mbbs diploma in otorhinolaryngology dlo</td>\n",
       "      <td>30</td>\n",
       "      <td>0</td>\n",
       "      <td>581</td>\n",
       "      <td>3</td>\n",
       "      <td>missing</td>\n",
       "      <td>0</td>\n",
       "      <td>0</td>\n",
       "    </tr>\n",
       "    <tr>\n",
       "      <th>2</th>\n",
       "      <td>mbbs ddvl</td>\n",
       "      <td>39</td>\n",
       "      <td>9</td>\n",
       "      <td>258</td>\n",
       "      <td>2</td>\n",
       "      <td>70 4 feedback kk nagar chennai</td>\n",
       "      <td>4</td>\n",
       "      <td>0</td>\n",
       "    </tr>\n",
       "    <tr>\n",
       "      <th>3</th>\n",
       "      <td>bams</td>\n",
       "      <td>0</td>\n",
       "      <td>0</td>\n",
       "      <td>375</td>\n",
       "      <td>0</td>\n",
       "      <td>missing</td>\n",
       "      <td>0</td>\n",
       "      <td>0</td>\n",
       "    </tr>\n",
       "    <tr>\n",
       "      <th>4</th>\n",
       "      <td>bds mds conservative dentistry endodontics</td>\n",
       "      <td>15</td>\n",
       "      <td>36</td>\n",
       "      <td>227</td>\n",
       "      <td>1</td>\n",
       "      <td>general dentistry conservative dentistry cosme...</td>\n",
       "      <td>0</td>\n",
       "      <td>0</td>\n",
       "    </tr>\n",
       "  </tbody>\n",
       "</table>\n",
       "</div>"
      ],
      "text/plain": [
       "                                Qualification  Experience  Rating  Place  \\\n",
       "0                                        mbbs          34       0    142   \n",
       "1    mbbs diploma in otorhinolaryngology dlo           30       0    581   \n",
       "2                                   mbbs ddvl          39       9    258   \n",
       "3                                        bams           0       0    375   \n",
       "4  bds mds conservative dentistry endodontics          15      36    227   \n",
       "\n",
       "   Profile                                 Miscellaneous_Info  Feedback  \\\n",
       "0        4                                            missing         0   \n",
       "1        3                                            missing         0   \n",
       "2        2                     70 4 feedback kk nagar chennai         4   \n",
       "3        0                                            missing         0   \n",
       "4        1  general dentistry conservative dentistry cosme...         0   \n",
       "\n",
       "   Misc_Fees  \n",
       "0          0  \n",
       "1          0  \n",
       "2          0  \n",
       "3          0  \n",
       "4          0  "
      ]
     },
     "execution_count": 624,
     "metadata": {},
     "output_type": "execute_result"
    }
   ],
   "source": [
    "x.head()"
   ]
  },
  {
   "cell_type": "markdown",
   "metadata": {},
   "source": [
    "From above we can observe that we have successfully refined our data for our future predictions . Now we will check for skewness in our dataset."
   ]
  },
  {
   "cell_type": "markdown",
   "metadata": {},
   "source": [
    "## **Skewness**"
   ]
  },
  {
   "cell_type": "code",
   "execution_count": 625,
   "metadata": {},
   "outputs": [
    {
     "data": {
      "text/plain": [
       "<AxesSubplot:xlabel='Experience', ylabel='Density'>"
      ]
     },
     "execution_count": 625,
     "metadata": {},
     "output_type": "execute_result"
    },
    {
     "data": {
      "image/png": "[encoded data removed]",
      "text/plain": [
       "<Figure size 432x288 with 1 Axes>"
      ]
     },
     "metadata": {},
     "output_type": "display_data"
    }
   ],
   "source": [
    "sns.distplot(ddf['Experience'])"
   ]
  },
  {
   "cell_type": "code",
   "execution_count": 626,
   "metadata": {},
   "outputs": [
    {
     "data": {
      "text/plain": [
       "0.9510282716386016"
      ]
     },
     "execution_count": 626,
     "metadata": {},
     "output_type": "execute_result"
    }
   ],
   "source": [
    "ddf['Experience'].skew()"
   ]
  },
  {
   "cell_type": "code",
   "execution_count": 627,
   "metadata": {},
   "outputs": [],
   "source": [
    "ddf['Experience']= np.sqrt(ddf['Experience'])"
   ]
  },
  {
   "cell_type": "code",
   "execution_count": 628,
   "metadata": {},
   "outputs": [
    {
     "data": {
      "text/plain": [
       "0.06052593002543377"
      ]
     },
     "execution_count": 628,
     "metadata": {},
     "output_type": "execute_result"
    }
   ],
   "source": [
    "ddf['Experience'].skew()"
   ]
  },
  {
   "cell_type": "markdown",
   "metadata": {},
   "source": [
    "From above we can observe that we have sucessfully removed the skewness in the dataset."
   ]
  },
  {
   "cell_type": "markdown",
   "metadata": {},
   "source": [
    "**Rating**"
   ]
  },
  {
   "cell_type": "code",
   "execution_count": 629,
   "metadata": {},
   "outputs": [
    {
     "data": {
      "text/plain": [
       "0.36092068725823095"
      ]
     },
     "execution_count": 629,
     "metadata": {},
     "output_type": "execute_result"
    }
   ],
   "source": [
    "ddf['Rating'].skew()"
   ]
  },
  {
   "cell_type": "code",
   "execution_count": 630,
   "metadata": {},
   "outputs": [
    {
     "data": {
      "text/plain": [
       "<AxesSubplot:xlabel='Rating', ylabel='Density'>"
      ]
     },
     "execution_count": 630,
     "metadata": {},
     "output_type": "execute_result"
    },
    {
     "data": {
      "image/png": "[encoded data removed]",
      "text/plain": [
       "<Figure size 432x288 with 1 Axes>"
      ]
     },
     "metadata": {},
     "output_type": "display_data"
    }
   ],
   "source": [
    "sns.distplot(ddf['Rating'])"
   ]
  },
  {
   "cell_type": "markdown",
   "metadata": {},
   "source": [
    "From above we can see that Rating feature has 0.33 skewness , i.e < 0.5 , so we don't need to do anything with this feature ."
   ]
  },
  {
   "cell_type": "markdown",
   "metadata": {},
   "source": [
    "**Place**"
   ]
  },
  {
   "cell_type": "code",
   "execution_count": 631,
   "metadata": {},
   "outputs": [
    {
     "data": {
      "text/plain": [
       "0.039610892193958545"
      ]
     },
     "execution_count": 631,
     "metadata": {},
     "output_type": "execute_result"
    }
   ],
   "source": [
    "ddf['Place'].skew()"
   ]
  },
  {
   "cell_type": "markdown",
   "metadata": {},
   "source": [
    "From above we can see that Place feature has 0.11 skewness , i.e < 0.5 , so we don't need to do anything with this feature ."
   ]
  },
  {
   "cell_type": "markdown",
   "metadata": {},
   "source": [
    "**Profile**"
   ]
  },
  {
   "cell_type": "code",
   "execution_count": 632,
   "metadata": {},
   "outputs": [
    {
     "data": {
      "text/plain": [
       "0.028925802279867626"
      ]
     },
     "execution_count": 632,
     "metadata": {},
     "output_type": "execute_result"
    }
   ],
   "source": [
    "ddf['Profile'].skew()"
   ]
  },
  {
   "cell_type": "markdown",
   "metadata": {},
   "source": [
    "From above we can see that Place feature has 0.1 skewness , i.e < 0.5 , so we don't need to do anything with this feature ."
   ]
  },
  {
   "cell_type": "markdown",
   "metadata": {},
   "source": [
    "**Feedback**"
   ]
  },
  {
   "cell_type": "code",
   "execution_count": 633,
   "metadata": {},
   "outputs": [
    {
     "data": {
      "text/plain": [
       "19.44961691117009"
      ]
     },
     "execution_count": 633,
     "metadata": {},
     "output_type": "execute_result"
    }
   ],
   "source": [
    "ddf['Feedback'].skew()"
   ]
  },
  {
   "cell_type": "code",
   "execution_count": 634,
   "metadata": {},
   "outputs": [
    {
     "data": {
      "text/plain": [
       "<AxesSubplot:xlabel='Feedback', ylabel='Density'>"
      ]
     },
     "execution_count": 634,
     "metadata": {},
     "output_type": "execute_result"
    },
    {
     "data": {
      "image/png": "[encoded data removed]",
      "text/plain": [
       "<Figure size 432x288 with 1 Axes>"
      ]
     },
     "metadata": {},
     "output_type": "display_data"
    }
   ],
   "source": [
    "sns.distplot(ddf['Feedback'])"
   ]
  },
  {
   "cell_type": "code",
   "execution_count": 635,
   "metadata": {},
   "outputs": [
    {
     "data": {
      "text/plain": [
       "0      1401\n",
       "2        38\n",
       "1        35\n",
       "3        30\n",
       "4        29\n",
       "       ... \n",
       "144       1\n",
       "145       1\n",
       "149       1\n",
       "156       1\n",
       "80        1\n",
       "Name: Feedback, Length: 138, dtype: int64"
      ]
     },
     "execution_count": 635,
     "metadata": {},
     "output_type": "execute_result"
    }
   ],
   "source": [
    "ddf['Feedback'].value_counts()"
   ]
  },
  {
   "cell_type": "markdown",
   "metadata": {},
   "source": [
    "From above we can observe that this Feedback feature is highly skewed and the values  are so less not constituting mu"
   ]
  },
  {
   "cell_type": "code",
   "execution_count": 636,
   "metadata": {},
   "outputs": [],
   "source": [
    "le = LabelEncoder()\n",
    "ddf['Feedback'] = le.fit_transform(ddf['Feedback'])"
   ]
  },
  {
   "cell_type": "code",
   "execution_count": 637,
   "metadata": {},
   "outputs": [
    {
     "data": {
      "text/plain": [
       "3.606979048544838"
      ]
     },
     "execution_count": 637,
     "metadata": {},
     "output_type": "execute_result"
    }
   ],
   "source": [
    "ddf['Feedback'].skew()"
   ]
  },
  {
   "cell_type": "code",
   "execution_count": 638,
   "metadata": {},
   "outputs": [
    {
     "data": {
      "text/plain": [
       "<AxesSubplot:xlabel='Feedback', ylabel='Density'>"
      ]
     },
     "execution_count": 638,
     "metadata": {},
     "output_type": "execute_result"
    },
    {
     "data": {
      "image/png": "[encoded data removed]",
      "text/plain": [
       "<Figure size 432x288 with 1 Axes>"
      ]
     },
     "metadata": {},
     "output_type": "display_data"
    }
   ],
   "source": [
    "sns.distplot(ddf['Feedback'])"
   ]
  },
  {
   "cell_type": "code",
   "execution_count": 639,
   "metadata": {},
   "outputs": [],
   "source": [
    "ddf['Feedback'] = np.sqrt(ddf['Feedback'])"
   ]
  },
  {
   "cell_type": "code",
   "execution_count": 640,
   "metadata": {},
   "outputs": [
    {
     "data": {
      "text/plain": [
       "2.1639184670880933"
      ]
     },
     "execution_count": 640,
     "metadata": {},
     "output_type": "execute_result"
    }
   ],
   "source": [
    "ddf['Feedback'].skew()"
   ]
  },
  {
   "cell_type": "markdown",
   "metadata": {},
   "source": [
    "From above we can observe that this Feedback feature is highly skewed and the values are so less and will not constitute in our future predictions. So we will drop this feature from our Dataset."
   ]
  },
  {
   "cell_type": "code",
   "execution_count": 641,
   "metadata": {},
   "outputs": [],
   "source": [
    "ddf = ddf.drop('Feedback' , axis = 1)"
   ]
  },
  {
   "cell_type": "code",
   "execution_count": 642,
   "metadata": {},
   "outputs": [
    {
     "data": {
      "text/html": [
       "<div>\n",
       "<style scoped>\n",
       "    .dataframe tbody tr th:only-of-type {\n",
       "        vertical-align: middle;\n",
       "    }\n",
       "\n",
       "    .dataframe tbody tr th {\n",
       "        vertical-align: top;\n",
       "    }\n",
       "\n",
       "    .dataframe thead th {\n",
       "        text-align: right;\n",
       "    }\n",
       "</style>\n",
       "<table border=\"1\" class=\"dataframe\">\n",
       "  <thead>\n",
       "    <tr style=\"text-align: right;\">\n",
       "      <th></th>\n",
       "      <th>Qualification</th>\n",
       "      <th>Experience</th>\n",
       "      <th>Rating</th>\n",
       "      <th>Place</th>\n",
       "      <th>Profile</th>\n",
       "      <th>Miscellaneous_Info</th>\n",
       "      <th>Misc_Fees</th>\n",
       "    </tr>\n",
       "  </thead>\n",
       "  <tbody>\n",
       "    <tr>\n",
       "      <th>0</th>\n",
       "      <td>mbbs</td>\n",
       "      <td>5.830952</td>\n",
       "      <td>0</td>\n",
       "      <td>142</td>\n",
       "      <td>4</td>\n",
       "      <td>missing</td>\n",
       "      <td>0</td>\n",
       "    </tr>\n",
       "    <tr>\n",
       "      <th>1</th>\n",
       "      <td>mbbs diploma in otorhinolaryngology dlo</td>\n",
       "      <td>5.477226</td>\n",
       "      <td>0</td>\n",
       "      <td>581</td>\n",
       "      <td>3</td>\n",
       "      <td>missing</td>\n",
       "      <td>0</td>\n",
       "    </tr>\n",
       "    <tr>\n",
       "      <th>2</th>\n",
       "      <td>mbbs ddvl</td>\n",
       "      <td>6.244998</td>\n",
       "      <td>9</td>\n",
       "      <td>258</td>\n",
       "      <td>2</td>\n",
       "      <td>70 4 feedback kk nagar chennai</td>\n",
       "      <td>0</td>\n",
       "    </tr>\n",
       "    <tr>\n",
       "      <th>3</th>\n",
       "      <td>bams</td>\n",
       "      <td>0.000000</td>\n",
       "      <td>0</td>\n",
       "      <td>375</td>\n",
       "      <td>0</td>\n",
       "      <td>missing</td>\n",
       "      <td>0</td>\n",
       "    </tr>\n",
       "    <tr>\n",
       "      <th>4</th>\n",
       "      <td>bds mds conservative dentistry endodontics</td>\n",
       "      <td>3.872983</td>\n",
       "      <td>36</td>\n",
       "      <td>227</td>\n",
       "      <td>1</td>\n",
       "      <td>general dentistry conservative dentistry cosme...</td>\n",
       "      <td>0</td>\n",
       "    </tr>\n",
       "  </tbody>\n",
       "</table>\n",
       "</div>"
      ],
      "text/plain": [
       "                                Qualification  Experience  Rating  Place  \\\n",
       "0                                        mbbs    5.830952       0    142   \n",
       "1    mbbs diploma in otorhinolaryngology dlo     5.477226       0    581   \n",
       "2                                   mbbs ddvl    6.244998       9    258   \n",
       "3                                        bams    0.000000       0    375   \n",
       "4  bds mds conservative dentistry endodontics    3.872983      36    227   \n",
       "\n",
       "   Profile                                 Miscellaneous_Info  Misc_Fees  \n",
       "0        4                                            missing          0  \n",
       "1        3                                            missing          0  \n",
       "2        2                     70 4 feedback kk nagar chennai          0  \n",
       "3        0                                            missing          0  \n",
       "4        1  general dentistry conservative dentistry cosme...          0  "
      ]
     },
     "execution_count": 642,
     "metadata": {},
     "output_type": "execute_result"
    }
   ],
   "source": [
    "ddf.head()"
   ]
  },
  {
   "cell_type": "markdown",
   "metadata": {},
   "source": [
    "**Misc_Fees**"
   ]
  },
  {
   "cell_type": "code",
   "execution_count": 643,
   "metadata": {},
   "outputs": [
    {
     "data": {
      "text/plain": [
       "9.839869568010174"
      ]
     },
     "execution_count": 643,
     "metadata": {},
     "output_type": "execute_result"
    }
   ],
   "source": [
    "ddf['Misc_Fees'].skew()"
   ]
  },
  {
   "cell_type": "code",
   "execution_count": 644,
   "metadata": {},
   "outputs": [
    {
     "data": {
      "text/plain": [
       "0       1910\n",
       "500       14\n",
       "250       10\n",
       "1000       9\n",
       "600        6\n",
       "1500       6\n",
       "300        6\n",
       "200        5\n",
       "1200       4\n",
       "700        4\n",
       "100        2\n",
       "800        2\n",
       "150        2\n",
       "400        2\n",
       "2000       1\n",
       "350        1\n",
       "650        1\n",
       "3500       1\n",
       "550        1\n",
       "Name: Misc_Fees, dtype: int64"
      ]
     },
     "execution_count": 644,
     "metadata": {},
     "output_type": "execute_result"
    }
   ],
   "source": [
    "ddf['Misc_Fees'].value_counts()"
   ]
  },
  {
   "cell_type": "markdown",
   "metadata": {},
   "source": [
    "From above observations we can observe that almost 97% of the values are 0 of Misc_Fees feature , So we can drop this feature ."
   ]
  },
  {
   "cell_type": "code",
   "execution_count": 645,
   "metadata": {},
   "outputs": [],
   "source": [
    "ddf = ddf.drop('Misc_Fees' , axis = 1)"
   ]
  },
  {
   "cell_type": "code",
   "execution_count": 646,
   "metadata": {},
   "outputs": [
    {
     "data": {
      "text/html": [
       "<div>\n",
       "<style scoped>\n",
       "    .dataframe tbody tr th:only-of-type {\n",
       "        vertical-align: middle;\n",
       "    }\n",
       "\n",
       "    .dataframe tbody tr th {\n",
       "        vertical-align: top;\n",
       "    }\n",
       "\n",
       "    .dataframe thead th {\n",
       "        text-align: right;\n",
       "    }\n",
       "</style>\n",
       "<table border=\"1\" class=\"dataframe\">\n",
       "  <thead>\n",
       "    <tr style=\"text-align: right;\">\n",
       "      <th></th>\n",
       "      <th>Qualification</th>\n",
       "      <th>Experience</th>\n",
       "      <th>Rating</th>\n",
       "      <th>Place</th>\n",
       "      <th>Profile</th>\n",
       "      <th>Miscellaneous_Info</th>\n",
       "    </tr>\n",
       "  </thead>\n",
       "  <tbody>\n",
       "    <tr>\n",
       "      <th>0</th>\n",
       "      <td>mbbs</td>\n",
       "      <td>5.830952</td>\n",
       "      <td>0</td>\n",
       "      <td>142</td>\n",
       "      <td>4</td>\n",
       "      <td>missing</td>\n",
       "    </tr>\n",
       "    <tr>\n",
       "      <th>1</th>\n",
       "      <td>mbbs diploma in otorhinolaryngology dlo</td>\n",
       "      <td>5.477226</td>\n",
       "      <td>0</td>\n",
       "      <td>581</td>\n",
       "      <td>3</td>\n",
       "      <td>missing</td>\n",
       "    </tr>\n",
       "    <tr>\n",
       "      <th>2</th>\n",
       "      <td>mbbs ddvl</td>\n",
       "      <td>6.244998</td>\n",
       "      <td>9</td>\n",
       "      <td>258</td>\n",
       "      <td>2</td>\n",
       "      <td>70 4 feedback kk nagar chennai</td>\n",
       "    </tr>\n",
       "    <tr>\n",
       "      <th>3</th>\n",
       "      <td>bams</td>\n",
       "      <td>0.000000</td>\n",
       "      <td>0</td>\n",
       "      <td>375</td>\n",
       "      <td>0</td>\n",
       "      <td>missing</td>\n",
       "    </tr>\n",
       "    <tr>\n",
       "      <th>4</th>\n",
       "      <td>bds mds conservative dentistry endodontics</td>\n",
       "      <td>3.872983</td>\n",
       "      <td>36</td>\n",
       "      <td>227</td>\n",
       "      <td>1</td>\n",
       "      <td>general dentistry conservative dentistry cosme...</td>\n",
       "    </tr>\n",
       "  </tbody>\n",
       "</table>\n",
       "</div>"
      ],
      "text/plain": [
       "                                Qualification  Experience  Rating  Place  \\\n",
       "0                                        mbbs    5.830952       0    142   \n",
       "1    mbbs diploma in otorhinolaryngology dlo     5.477226       0    581   \n",
       "2                                   mbbs ddvl    6.244998       9    258   \n",
       "3                                        bams    0.000000       0    375   \n",
       "4  bds mds conservative dentistry endodontics    3.872983      36    227   \n",
       "\n",
       "   Profile                                 Miscellaneous_Info  \n",
       "0        4                                            missing  \n",
       "1        3                                            missing  \n",
       "2        2                     70 4 feedback kk nagar chennai  \n",
       "3        0                                            missing  \n",
       "4        1  general dentistry conservative dentistry cosme...  "
      ]
     },
     "execution_count": 646,
     "metadata": {},
     "output_type": "execute_result"
    }
   ],
   "source": [
    "ddf.head()"
   ]
  },
  {
   "cell_type": "code",
   "execution_count": 647,
   "metadata": {},
   "outputs": [],
   "source": [
    "columns = ['Experience' , 'Rating' , 'Place' , 'Profile' , 'Feedback' , 'Misc_Fees'] "
   ]
  },
  {
   "cell_type": "markdown",
   "metadata": {},
   "source": [
    "**Target Variable** "
   ]
  },
  {
   "cell_type": "code",
   "execution_count": 648,
   "metadata": {},
   "outputs": [],
   "source": [
    "y = ddf_test"
   ]
  },
  {
   "cell_type": "code",
   "execution_count": 649,
   "metadata": {},
   "outputs": [
    {
     "data": {
      "text/html": [
       "<div>\n",
       "<style scoped>\n",
       "    .dataframe tbody tr th:only-of-type {\n",
       "        vertical-align: middle;\n",
       "    }\n",
       "\n",
       "    .dataframe tbody tr th {\n",
       "        vertical-align: top;\n",
       "    }\n",
       "\n",
       "    .dataframe thead th {\n",
       "        text-align: right;\n",
       "    }\n",
       "</style>\n",
       "<table border=\"1\" class=\"dataframe\">\n",
       "  <thead>\n",
       "    <tr style=\"text-align: right;\">\n",
       "      <th></th>\n",
       "      <th>Fees</th>\n",
       "    </tr>\n",
       "  </thead>\n",
       "  <tbody>\n",
       "    <tr>\n",
       "      <th>0</th>\n",
       "      <td>1747</td>\n",
       "    </tr>\n",
       "    <tr>\n",
       "      <th>1</th>\n",
       "      <td>1725</td>\n",
       "    </tr>\n",
       "    <tr>\n",
       "      <th>2</th>\n",
       "      <td>2194</td>\n",
       "    </tr>\n",
       "    <tr>\n",
       "      <th>3</th>\n",
       "      <td>2193</td>\n",
       "    </tr>\n",
       "    <tr>\n",
       "      <th>4</th>\n",
       "      <td>2091</td>\n",
       "    </tr>\n",
       "    <tr>\n",
       "      <th>...</th>\n",
       "      <td>...</td>\n",
       "    </tr>\n",
       "    <tr>\n",
       "      <th>1982</th>\n",
       "      <td>2352</td>\n",
       "    </tr>\n",
       "    <tr>\n",
       "      <th>1983</th>\n",
       "      <td>1653</td>\n",
       "    </tr>\n",
       "    <tr>\n",
       "      <th>1984</th>\n",
       "      <td>2063</td>\n",
       "    </tr>\n",
       "    <tr>\n",
       "      <th>1985</th>\n",
       "      <td>2541</td>\n",
       "    </tr>\n",
       "    <tr>\n",
       "      <th>1986</th>\n",
       "      <td>1633</td>\n",
       "    </tr>\n",
       "  </tbody>\n",
       "</table>\n",
       "<p>1987 rows × 1 columns</p>\n",
       "</div>"
      ],
      "text/plain": [
       "      Fees\n",
       "0     1747\n",
       "1     1725\n",
       "2     2194\n",
       "3     2193\n",
       "4     2091\n",
       "...    ...\n",
       "1982  2352\n",
       "1983  1653\n",
       "1984  2063\n",
       "1985  2541\n",
       "1986  1633\n",
       "\n",
       "[1987 rows x 1 columns]"
      ]
     },
     "execution_count": 649,
     "metadata": {},
     "output_type": "execute_result"
    }
   ],
   "source": [
    "y"
   ]
  },
  {
   "cell_type": "markdown",
   "metadata": {},
   "source": [
    "**Tf  Idf Vectorizer**"
   ]
  },
  {
   "cell_type": "markdown",
   "metadata": {},
   "source": [
    "TF-IDF is an abbreviation for Term Frequency Inverse Document Frequency. This is very common algorithm to transform text into a meaningful representation of numbers which is used to fit machine algorithm for prediction."
   ]
  },
  {
   "cell_type": "markdown",
   "metadata": {},
   "source": [
    "[To_read_more_about_TfIdf Vectorizer](https://medium.com/@cmukesh8688/tf-idf-vectorizer-scikit-learn-dbc0244a911a)"
   ]
  },
  {
   "cell_type": "markdown",
   "metadata": {},
   "source": [
    "Here we are applying TfIdf vectorizer to our three features <br>Qualification<br>Place<br>Miscellaneous_Info<br>"
   ]
  },
  {
   "cell_type": "code",
   "execution_count": 650,
   "metadata": {},
   "outputs": [],
   "source": [
    "from sklearn.feature_extraction.text import TfidfVectorizer\n",
    "\n",
    "tf1 = TfidfVectorizer(ngram_range=(1,2), binary=True, token_pattern=r'\\w{3,}')\n",
    "x_Qualification = tf1.fit_transform(x['Qualification'])"
   ]
  },
  {
   "cell_type": "code",
   "execution_count": 651,
   "metadata": {},
   "outputs": [],
   "source": [
    "# tf2 = TfidfVectorizer()\n",
    "# x_Place = tf2.fit_transform(x['Place'])"
   ]
  },
  {
   "cell_type": "code",
   "execution_count": 652,
   "metadata": {},
   "outputs": [],
   "source": [
    "tf3 = TfidfVectorizer(token_pattern=r'\\w{1,}', ngram_range=(1,2))\n",
    "x_Miscellaneous_Info = tf3.fit_transform(x['Miscellaneous_Info'])"
   ]
  },
  {
   "cell_type": "markdown",
   "metadata": {},
   "source": [
    "Here we are just creating a new array with our features and reshaping it and assigning it to a new variable."
   ]
  },
  {
   "cell_type": "code",
   "execution_count": 653,
   "metadata": {},
   "outputs": [],
   "source": [
    "x_Experience = np.array(x['Experience']).reshape(-1,1)"
   ]
  },
  {
   "cell_type": "code",
   "execution_count": 654,
   "metadata": {},
   "outputs": [],
   "source": [
    "x_Rating = np.array(x['Rating']).reshape(-1,1)"
   ]
  },
  {
   "cell_type": "code",
   "execution_count": 655,
   "metadata": {},
   "outputs": [],
   "source": [
    "x_Place = np.array(x['Place']).reshape(-1,1)"
   ]
  },
  {
   "cell_type": "code",
   "execution_count": 656,
   "metadata": {},
   "outputs": [],
   "source": [
    "x_Profile = np.array(x['Profile']).reshape(-1,1)"
   ]
  },
  {
   "cell_type": "markdown",
   "metadata": {},
   "source": [
    "*Hstack*\n",
    "\n",
    "Stack arrays in sequence horizontally (column wise)."
   ]
  },
  {
   "cell_type": "markdown",
   "metadata": {},
   "source": [
    "[To_Learn_more_about_Hstack](https://numpy.org/doc/stable/reference/generated/numpy.hstack.html)"
   ]
  },
  {
   "cell_type": "code",
   "execution_count": 657,
   "metadata": {},
   "outputs": [],
   "source": [
    "from scipy.sparse import hstack\n",
    "x_train = hstack((x_Qualification, x_Experience, x_Rating , \n",
    "                       x_Place, x_Profile, x_Miscellaneous_Info ,  ))"
   ]
  },
  {
   "cell_type": "code",
   "execution_count": 658,
   "metadata": {},
   "outputs": [
    {
     "data": {
      "text/plain": [
       "(1987, 5010)"
      ]
     },
     "execution_count": 658,
     "metadata": {},
     "output_type": "execute_result"
    }
   ],
   "source": [
    "x_train.shape"
   ]
  },
  {
   "cell_type": "markdown",
   "metadata": {},
   "source": [
    "**One can use below codes to find the best ramdom state , unfortunately my system is not capable of performing a loop of random forest for such big data**."
   ]
  },
  {
   "cell_type": "code",
   "execution_count": 659,
   "metadata": {},
   "outputs": [],
   "source": [
    "# best_score=0\n",
    "# for i in range(20):\n",
    "#     from sklearn.model_selection import train_test_split\n",
    "#     X_train, X_test, y_train, y_test = train_test_split(x_train , y, test_size = 0.2, random_state = i)\n",
    "#     rf = RandomForestRegressor()\n",
    "#     rf.fit(X_train,y_train)\n",
    "#     y_predicted = rf.predict(X_test)\n",
    "#     b_score= r2_score(y_test ,y_predicted )\n",
    "#     if b_score>best_score:\n",
    "#         best_score=b_score\n",
    "#         randomState=i\n",
    "    \n",
    "# print('Best Score = {} For Random state = {}'.format(best_score*100,randomState))"
   ]
  },
  {
   "cell_type": "markdown",
   "metadata": {},
   "source": [
    "Finding scores of different regression models. "
   ]
  },
  {
   "cell_type": "code",
   "execution_count": 660,
   "metadata": {},
   "outputs": [
    {
     "name": "stdout",
     "output_type": "stream",
     "text": [
      "\n",
      "Model:  LinearRegression()\n",
      "\n",
      "-->Score: -1.9432293807006018\n",
      "Cross validation score:  -1.252085836897245\n",
      "Difference between accuracy and cross validation score:  1.9641455068359637\n",
      "Mean Absolute Error:  445.60500927527346\n",
      "R2 Score -1.9432293807006018\n",
      "\n",
      "Model:  RandomForestRegressor()\n",
      "\n",
      "-->Score: -0.102213348767354\n",
      "Cross validation score:  -0.13157340302061024\n",
      "Difference between accuracy and cross validation score:  0.9717360534130444\n",
      "Mean Absolute Error:  301.7093042593922\n",
      "R2 Score -0.102213348767354\n",
      "\n",
      "Model:  SVR()\n",
      "\n",
      "-->Score: -7.851546947423849e-05\n",
      "Cross validation score:  -0.0047193208102617405\n",
      "Difference between accuracy and cross validation score:  0.004703812808046904\n",
      "Mean Absolute Error:  288.6701416359268\n",
      "R2 Score -7.851546947423849e-05\n",
      "\n",
      "Model:  DecisionTreeRegressor()\n",
      "\n",
      "-->Score: -0.9717819279192315\n",
      "Cross validation score:  -0.9805574952232388\n",
      "Difference between accuracy and cross validation score:  1.976413127363198\n",
      "Mean Absolute Error:  393.356783919598\n",
      "R2 Score -0.9717819279192315\n",
      "\n",
      "Model:  KNeighborsRegressor()\n",
      "\n",
      "-->Score: -0.1495917849239412\n",
      "Cross validation score:  -0.20498405606201517\n",
      "Difference between accuracy and cross validation score:  0.42079139344953786\n",
      "Mean Absolute Error:  305.2740368509213\n",
      "R2 Score -0.1495917849239412\n",
      "\n",
      "Model:  GradientBoostingRegressor()\n",
      "\n",
      "-->Score: -0.001970097748051902\n",
      "Cross validation score:  -0.025201172187695332\n",
      "Difference between accuracy and cross validation score:  0.2292633570619251\n",
      "Mean Absolute Error:  289.62401366187726\n",
      "R2 Score -0.001970097748051902\n",
      "\n",
      "Model:  ExtraTreeRegressor()\n",
      "\n",
      "-->Score: -0.9768342788403404\n",
      "Cross validation score:  -0.8642546154017776\n",
      "Difference between accuracy and cross validation score:  1.8601102475417368\n",
      "Mean Absolute Error:  403.1884422110553\n",
      "R2 Score -0.9768342788403404\n",
      "\n",
      "Model:  Lasso()\n",
      "\n",
      "-->Score: -0.002241342391874346\n",
      "Cross validation score:  -0.01340797035633714\n",
      "Difference between accuracy and cross validation score:  0.019135905186538425\n",
      "Mean Absolute Error:  288.99708708809084\n",
      "R2 Score -0.002241342391874346\n",
      "\n",
      "Model:  Ridge()\n",
      "\n",
      "-->Score: -0.07976796038325085\n",
      "Cross validation score:  -0.10575260693847914\n",
      "Difference between accuracy and cross validation score:  0.5425604728437026\n",
      "Mean Absolute Error:  297.76103454137046\n",
      "R2 Score -0.07976796038325085\n",
      "\n",
      "Model:  ElasticNet()\n",
      "\n",
      "-->Score: -0.0015611184076720352\n",
      "Cross validation score:  -0.00870958548236489\n",
      "Difference between accuracy and cross validation score:  0.010698587535841408\n",
      "Mean Absolute Error:  288.8256263624647\n",
      "R2 Score -0.0015611184076720352\n"
     ]
    }
   ],
   "source": [
    "X_train, X_test, y_train, y_test = train_test_split(x_train , y, train_size=0.7, test_size=0.3, random_state= 42)\n",
    "\n",
    "model_reg = [LinearRegression,RandomForestRegressor, SVR, DecisionTreeRegressor,KNeighborsRegressor, GradientBoostingRegressor,\n",
    "             ExtraTreeRegressor , Lasso , Ridge , ElasticNet]\n",
    "\n",
    "\n",
    "for model in model_reg:\n",
    "    m = model()\n",
    "    print('\\n''Model: ',m)\n",
    "    m.fit(X_train, y_train)\n",
    "    scr=m.score(X_train,y_train)\n",
    "    score = (m.score(X_test , y_test))\n",
    "    print('\\n''-->''Score:',score)\n",
    "    scr_cross=cross_val_score(m,x_train,y,cv=5)\n",
    "    scr_mean=scr_cross.mean()\n",
    "    print('Cross validation score: ',scr_mean)\n",
    "    print('Difference between accuracy and cross validation score: ', scr-scr_mean)\n",
    "    y_predicted = m.predict(X_test)\n",
    "    print('Mean Absolute Error: ',mean_absolute_error(y_test, y_predicted))\n",
    "    print('R2 Score' , r2_score(y_test , y_predicted))"
   ]
  },
  {
   "cell_type": "code",
   "execution_count": 661,
   "metadata": {},
   "outputs": [],
   "source": [
    "X_train,X_test,y_train,y_test=train_test_split(x_train,y,test_size=.30,random_state=42)"
   ]
  },
  {
   "cell_type": "code",
   "execution_count": 662,
   "metadata": {},
   "outputs": [
    {
     "data": {
      "text/plain": [
       "((1390, 5010), (597, 5010), (1390, 1), (597, 1))"
      ]
     },
     "execution_count": 662,
     "metadata": {},
     "output_type": "execute_result"
    }
   ],
   "source": [
    "X_train.shape,X_test.shape, y_train.shape, y_test.shape"
   ]
  },
  {
   "cell_type": "markdown",
   "metadata": {},
   "source": [
    "Applying Algorithms."
   ]
  },
  {
   "cell_type": "markdown",
   "metadata": {},
   "source": [
    "**Random Forest Regressor**"
   ]
  },
  {
   "cell_type": "code",
   "execution_count": 663,
   "metadata": {},
   "outputs": [
    {
     "name": "stdout",
     "output_type": "stream",
     "text": [
      "RMSLE: 0.19277051846510995\n"
     ]
    }
   ],
   "source": [
    "X_train, X_test, y_train, y_test = train_test_split(x_train , y, test_size = 0.3, random_state = 42)\n",
    "\n",
    "rf = RandomForestRegressor()\n",
    "rf.fit(X_train,y_train)\n",
    "rf_pred=rf.predict(X_test)\n",
    "print('RMSLE:', sqrt(mean_squared_log_error(y_test, rf_pred)))"
   ]
  },
  {
   "cell_type": "markdown",
   "metadata": {},
   "source": [
    "**AdaBoostRegressor**"
   ]
  },
  {
   "cell_type": "code",
   "execution_count": 664,
   "metadata": {},
   "outputs": [
    {
     "name": "stdout",
     "output_type": "stream",
     "text": [
      "RMSLE: 0.18390053136845208\n"
     ]
    }
   ],
   "source": [
    "from sklearn.ensemble import AdaBoostRegressor\n",
    "\n",
    "X_train,X_test,y_train,y_test=train_test_split(x_train,y,test_size=.30,random_state=42)\n",
    "\n",
    "ab = AdaBoostRegressor()\n",
    "ab.fit(X_train,y_train)\n",
    "ab_pred = ab.predict(X_test)\n",
    "print('RMSLE:', sqrt(mean_squared_log_error(y_test, ab_pred)))"
   ]
  },
  {
   "cell_type": "markdown",
   "metadata": {},
   "source": [
    "**Gradient Boosting Regressor**"
   ]
  },
  {
   "cell_type": "code",
   "execution_count": 665,
   "metadata": {},
   "outputs": [
    {
     "name": "stdout",
     "output_type": "stream",
     "text": [
      "RMSLE: 0.1891869170723109\n"
     ]
    }
   ],
   "source": [
    "from sklearn.ensemble import GradientBoostingRegressor\n",
    "\n",
    "\n",
    "X_train,X_test,y_train,y_test=train_test_split(x_train,y,test_size=.30,random_state=42)\n",
    "\n",
    "gb = GradientBoostingRegressor(loss='lad', \n",
    "                               learning_rate=0.2,  \n",
    "                               random_state=10, \n",
    "                               n_estimators=92,   \n",
    "                               max_depth=11,  \n",
    "                               subsample=1.0, \n",
    "                               min_samples_split=40, \n",
    "                               min_samples_leaf=1,\n",
    "                               max_features='auto')\n",
    "gb.fit(X_train, y_train)\n",
    "gb_pred = gb.predict(X_test)\n",
    "print('RMSLE:', sqrt(mean_squared_log_error(y_test, gb_pred)))"
   ]
  },
  {
   "cell_type": "markdown",
   "metadata": {},
   "source": [
    "**SVR**"
   ]
  },
  {
   "cell_type": "code",
   "execution_count": 666,
   "metadata": {},
   "outputs": [
    {
     "name": "stdout",
     "output_type": "stream",
     "text": [
      "RMSLE: 0.18451535603672764\n"
     ]
    }
   ],
   "source": [
    "X_train, X_test, y_train, y_test = train_test_split(x_train, y, test_size = 0.2, random_state = 42)\n",
    "\n",
    "sv = SVR()\n",
    "sv.fit(X_train , y_train)\n",
    "sv_pred = sv.predict(X_test)\n",
    "print('RMSLE:', sqrt(mean_squared_log_error(y_test, sv_pred)))"
   ]
  },
  {
   "cell_type": "markdown",
   "metadata": {},
   "source": [
    "**Decision Tree Regressor**"
   ]
  },
  {
   "cell_type": "code",
   "execution_count": 667,
   "metadata": {},
   "outputs": [
    {
     "name": "stdout",
     "output_type": "stream",
     "text": [
      "RMSLE: 0.263641899687144\n"
     ]
    }
   ],
   "source": [
    "X_train, X_test, y_train, y_test = train_test_split(x_train, y, test_size = 0.2, random_state = 42)\n",
    "\n",
    "dtr = DecisionTreeRegressor()\n",
    "dtr.fit(X_train , y_train)\n",
    "dtr_pred = dtr.predict(X_test)\n",
    "print('RMSLE:', sqrt(mean_squared_log_error(y_test, dtr_pred)))"
   ]
  },
  {
   "cell_type": "markdown",
   "metadata": {},
   "source": [
    "**Extra Tree Regressor**"
   ]
  },
  {
   "cell_type": "code",
   "execution_count": 668,
   "metadata": {},
   "outputs": [
    {
     "name": "stdout",
     "output_type": "stream",
     "text": [
      "RMSLE: 0.24930291342507205\n"
     ]
    }
   ],
   "source": [
    "X_train, X_test, y_train, y_test = train_test_split(x_train, y, test_size = 0.2, random_state = 42)\n",
    "\n",
    "etr = ExtraTreeRegressor()\n",
    "etr.fit(X_train , y_train)\n",
    "etr_pred = etr.predict(X_test)\n",
    "print('RMSLE:', sqrt(mean_squared_log_error(y_test, etr_pred)))"
   ]
  },
  {
   "cell_type": "markdown",
   "metadata": {},
   "source": [
    "From above we can observe that Random Forest Regressor is giving the best scores. So we'll use this for our future predictions."
   ]
  },
  {
   "cell_type": "code",
   "execution_count": 669,
   "metadata": {},
   "outputs": [
    {
     "data": {
      "text/plain": [
       "['RandomForestRegressor.pkl']"
      ]
     },
     "execution_count": 669,
     "metadata": {},
     "output_type": "execute_result"
    }
   ],
   "source": [
    "import joblib \n",
    "joblib.dump(rf , 'RandomForestRegressor.pkl')"
   ]
  },
  {
   "cell_type": "code",
   "execution_count": null,
   "metadata": {},
   "outputs": [],
   "source": []
  },
  {
   "cell_type": "code",
   "execution_count": null,
   "metadata": {},
   "outputs": [],
   "source": []
  },
  {
   "cell_type": "code",
   "execution_count": null,
   "metadata": {},
   "outputs": [],
   "source": []
  },
  {
   "cell_type": "code",
   "execution_count": null,
   "metadata": {},
   "outputs": [],
   "source": []
  },
  {
   "cell_type": "code",
   "execution_count": null,
   "metadata": {},
   "outputs": [],
   "source": []
  },
  {
   "cell_type": "code",
   "execution_count": null,
   "metadata": {},
   "outputs": [],
   "source": []
  },
  {
   "cell_type": "code",
   "execution_count": null,
   "metadata": {},
   "outputs": [],
   "source": []
  },
  {
   "cell_type": "code",
   "execution_count": null,
   "metadata": {},
   "outputs": [],
   "source": []
  },
  {
   "cell_type": "code",
   "execution_count": null,
   "metadata": {},
   "outputs": [],
   "source": []
  },
  {
   "cell_type": "code",
   "execution_count": null,
   "metadata": {},
   "outputs": [],
   "source": []
  },
  {
   "cell_type": "code",
   "execution_count": null,
   "metadata": {},
   "outputs": [],
   "source": []
  },
  {
   "cell_type": "code",
   "execution_count": null,
   "metadata": {},
   "outputs": [],
   "source": []
  }
 ],
 "metadata": {
  "kernelspec": {
   "display_name": "Python 3",
   "language": "python",
   "name": "python3"
  },
  "language_info": {
   "codemirror_mode": {
    "name": "ipython",
    "version": 3
   },
   "file_extension": ".py",
   "mimetype": "text/x-python",
   "name": "python",
   "nbconvert_exporter": "python",
   "pygments_lexer": "ipython3",
   "version": "3.8.5"
  }
 },
 "nbformat": 4,
 "nbformat_minor": 4
}
